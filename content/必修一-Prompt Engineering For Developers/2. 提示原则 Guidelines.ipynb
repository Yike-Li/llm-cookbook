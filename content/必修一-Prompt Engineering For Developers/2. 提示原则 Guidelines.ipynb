{
 "cells": [
  {
   "attachments": {},
   "cell_type": "markdown",
   "metadata": {},
   "source": [
    "# 第二章 编写 Prompt 的原则\n",
    "\n",
    "  本章的主要内容为编写 Prompt 的原则，在本章中，我们将给出两个编写 Prompt 的原则与一些相关的策略，您可以练习编写高效的 Prompt，从而便捷而有效地使用 LLM。"
   ]
  },
  {
   "cell_type": "markdown",
   "metadata": {},
   "source": [
    "<div class=\"toc\">\n",
    "    <ul class=\"toc-item\">\n",
    "        <li><span><a href=\"#一环境配置\" data-toc-modified-id=\"一、环境配置\">一、环境配置</a></span></li>\n",
    "        <li>\n",
    "            <span><a href=\"#二两个基本原则\" data-toc-modified-id=\"二、两个基本原则\">二、两个基本原则</a></span>\n",
    "            <ul class=\"toc-item\">\n",
    "                <li><span><a href=\"#21-原则一编写清晰具体的指令\" data-toc-modified-id=\"2.1 原则一：编写清晰、具体的指令\">2.1 原则一：编写清晰、具体的指令</a></span></li>\n",
    "                <li><span><a href=\"#22-给模型时间去思考\" data-toc-modified-id=\"2.2 原则二：给模型时间去思考\">2.2 原则二：给模型时间去思考</a></span></li>\n",
    "            </ul>\n",
    "        </li>\n",
    "        <li><span><a href=\"#三局限性\" data-toc-modified-id=\"三、局限性\">三、局限性</a></span>\n",
    "        </li>\n",
    "    </ul>\n",
    "</div>"
   ]
  },
  {
   "attachments": {},
   "cell_type": "markdown",
   "metadata": {},
   "source": [
    "## 一、环境配置"
   ]
  },
  {
   "attachments": {},
   "cell_type": "markdown",
   "metadata": {},
   "source": [
    "本教程使用 OpenAI 所开放的 ChatGPT API，因此您需要首先拥有一个 ChatGPT 的 API_KEY（也可以直接访问官方网址在线测试），然后需要安装 OpenAI 的第三方库。为了兼顾简便与兼容性，本教程将介绍在 ```Python 3``` 环境中基于 ```openai.api_key``` 方法的配置。另有基于环境变量的配置方法，详情请参考 [OpenAI 官方文档](https://help.openai.com/en/articles/5112595-best-practices-for-api-key-safety)。"
   ]
  },
  {
   "attachments": {},
   "cell_type": "markdown",
   "metadata": {},
   "source": [
    "首先需要安装 OpenAI 库：\n",
    "```bash\n",
    "pip install openai\n",
    "```"
   ]
  },
  {
   "cell_type": "code",
   "execution_count": 2,
   "metadata": {},
   "outputs": [],
   "source": [
    "# !pip install openai"
   ]
  },
  {
   "cell_type": "code",
   "execution_count": 3,
   "metadata": {},
   "outputs": [],
   "source": [
    "import sys\n",
    "sys.path.append('../') # Add the parent directory to the search path\n",
    "\n",
    "from openai import OpenAI\n",
    "import hvac\n",
    "\n",
    "vault_client = hvac.Client()\n",
    "if not vault_client.is_authenticated():\n",
    "    raise ValueError(\n",
    "        \"An OpenAI API key wasn't found in the configs or environment and vault isn't authenticated, giving up.\"\n",
    "    )\n",
    "response = vault_client.read(\"secret-paas/project/octo/dev/env/OPENAI_API_KEY\")\n",
    "\n",
    "if isinstance(response, dict):\n",
    "    api_key = response[\"data\"][\"value\"]\n",
    "else:\n",
    "    raise ValueError(\n",
    "        \"Received unexpected response from vault while fetching OpenAI key.\"\n",
    "    )\n",
    "\n",
    "import os\n",
    "# api_key = os.environ.get(\"PERPLEXITY_API_KEY\")\n",
    "\n",
    "client = OpenAI(api_key=api_key)\n",
    "\n",
    "# 一个封装 OpenAI 接口的函数，参数为 Prompt，返回对应结果\n",
    "def get_completion(prompt, model=\"gpt-4o-mini\"):\n",
    "    '''\n",
    "    prompt: 对应的提示词\n",
    "    model: 调用的模型，默认为 gpt-3.5-turbo(ChatGPT)，有内测资格的用户可以选择 gpt-4\n",
    "    \n",
    "    '''\n",
    "\n",
    "    messages = [{\"role\": \"user\", \"content\": prompt}]\n",
    "    response = client.chat.completions.create(\n",
    "        model=model,\n",
    "        messages=messages,\n",
    "        # temperature=0, # 模型输出的温度系数，控制输出的随机程度\n",
    "    )\n",
    "    # 调用 OpenAI 的 ChatCompletion 接口\n",
    "    return response.choices[0].message.content\n",
    "\n",
    "    # stream = client.chat.completions.create(\n",
    "    #     model=\"gpt-4o-mini\",\n",
    "    #     messages=[{\"role\": \"user\", \"content\": prompt}],\n",
    "    #     stream=True,\n",
    "    # )\n",
    "    # response = []\n",
    "    # for chunk in stream:\n",
    "    #     if chunk.choices[0].delta.content is not None:\n",
    "    #         response.append(chunk.choices[0].delta.content)\n",
    "\n",
    "    # return ('').join(response)"
   ]
  },
  {
   "attachments": {},
   "cell_type": "markdown",
   "metadata": {},
   "source": [
    "整个课程将以 gpt-3.5-turbo 模型为例。我们将在后续课程中深入探究 OpenAI 提供的 [Chat Completions API](https://platform.openai.com/docs/guides/gpt/chat-completions-api) 的使用方法，在此处，我们先将它封装成一个函数，您无需知道其内部机理，仅需知道调用该函数，以 Prompt 为输入参数，其将会输出对应的 Completion （回答结果）即可。"
   ]
  },
  {
   "cell_type": "code",
   "execution_count": 4,
   "metadata": {},
   "outputs": [],
   "source": []
  },
  {
   "attachments": {},
   "cell_type": "markdown",
   "metadata": {},
   "source": [
    "## 二、两个基本原则"
   ]
  },
  {
   "attachments": {},
   "cell_type": "markdown",
   "metadata": {},
   "source": [
    "### 2.1 原则一：编写清晰、具体的指令\n",
    "\n",
    "您应该通过提供尽可能清晰和具体的指令来表达您希望模型执行的操作。这将引导模型给出正确的输出，并降低您得到无关或不正确响应的可能性。清晰的指令不意味着必须简短，在许多情况下，更长的 Prompt 实际上更清晰，且提供了更多上下文，也就可能产生更详细更相关的输出。"
   ]
  },
  {
   "attachments": {},
   "cell_type": "markdown",
   "metadata": {},
   "source": [
    "**2.1.1 使用分隔符清晰地表示输入的不同部分**\n",
    "\n",
    "分隔符可以是：```，\"\"，<>，:，\\<tag> \\</tag>等。\n",
    "\n",
    "您可以使用任何明显的标点符号将特定的文本部分与 Prompt 的其余部分分开。标记的形式不限，只需要让模型明确知道这是一个单独部分。使用分隔符可以有效避免提示词注入( Prompt injection )。提示词注入是指如果允许用户将某些输入添加到（开发者预定义的） Prompt 中，则所提供的指令可能会与开发者想要执行的操作相冲突，从而使 LLM 遵循用户输入的指令，而非执行开发者预期的操作。即，输入里面可能包含其他指令，会覆盖掉您的指令。对此，使用分隔符是一个不错的策略。\n",
    "\n",
    "在以下的例子中，我们给出一段话并要求 GPT 进行总结，在该示例中我们使用 ``` 来作为分隔符。\n"
   ]
  },
  {
   "cell_type": "code",
   "execution_count": 5,
   "metadata": {},
   "outputs": [
    {
     "name": "stdout",
     "output_type": "stream",
     "text": [
      "To achieve relevant and accurate outputs from a model, it is essential to provide clear and specific instructions, as longer prompts often offer more clarity and context.\n"
     ]
    }
   ],
   "source": [
    "# 中文版见下一个 cell\n",
    "text = f\"\"\"\n",
    "You should express what you want a model to do by \\ \n",
    "providing instructions that are as clear and \\ \n",
    "specific as you can possibly make them. \\ \n",
    "This will guide the model towards the desired output, \\ \n",
    "and reduce the chances of receiving irrelevant \\ \n",
    "or incorrect responses. Don't confuse writing a \\ \n",
    "clear prompt with writing a short prompt. \\ \n",
    "In many cases, longer prompts provide more clarity \\ \n",
    "and context for the model, which can lead to \\ \n",
    "more detailed and relevant outputs.\n",
    "\"\"\"\n",
    "prompt = f\"\"\"\n",
    "Summarize the text delimited by triple backticks \\ \n",
    "into a single sentence.\n",
    "```{text}```\n",
    "\"\"\"\n",
    "response = get_completion(prompt)\n",
    "print(response)"
   ]
  },
  {
   "attachments": {},
   "cell_type": "markdown",
   "metadata": {},
   "source": [
    "Clear and specific instructions should be provided to guide a model towards the desired output, and longer prompts can provide more clarity and context for the model, leading to more detailed and relevant outputs."
   ]
  },
  {
   "cell_type": "code",
   "execution_count": 6,
   "metadata": {},
   "outputs": [
    {
     "name": "stdout",
     "output_type": "stream",
     "text": [
      "提供清晰、具体的指示可以提高模型输出的相关性和准确性，通常更长的提示词能更好地传达上下文信息。\n"
     ]
    }
   ],
   "source": [
    "text = f\"\"\"\n",
    "您应该提供尽可能清晰、具体的指示，以表达您希望模型执行的任务。\\\n",
    "这将引导模型朝向所需的输出，并降低收到无关或不正确响应的可能性。\\\n",
    "不要将写清晰的提示词与写简短的提示词混淆。\\\n",
    "在许多情况下，更长的提示词可以为模型提供更多的清晰度和上下文信息，从而导致更详细和相关的输出。\n",
    "\"\"\"\n",
    "# 需要总结的文本内容\n",
    "prompt = f\"\"\"\n",
    "把用三个反引号括起来的文本总结成一句话。\n",
    "```{text}```\n",
    "\"\"\"\n",
    "# 指令内容，使用 ``` 来分隔指令和待总结的内容\n",
    "response = get_completion(prompt)\n",
    "print(response)"
   ]
  },
  {
   "attachments": {},
   "cell_type": "markdown",
   "metadata": {},
   "source": [
    "\n",
    "提供清晰具体的指示，避免无关或不正确响应，不要混淆写清晰和写简短，更长的提示可以提供更多清晰度和上下文信息，导致更详细和相关的输出。"
   ]
  },
  {
   "attachments": {},
   "cell_type": "markdown",
   "metadata": {},
   "source": [
    "**2.1.2 寻求结构化的输出**\n",
    "\n",
    "输出可以是 Json、HTML 等格式。\n",
    "\n",
    "第二个策略是要求生成一个结构化的输出，这可以使模型的输出更容易被我们解析，例如，您可以在 Python 中将其读入字典或列表中。\n",
    "\n",
    "在以下示例中，我们要求 GPT 生成三本书的标题、作者和类别，并要求 GPT 以 Json 的格式返回给我们，为便于解析，我们指定了 Json 的键。"
   ]
  },
  {
   "cell_type": "code",
   "execution_count": 7,
   "metadata": {},
   "outputs": [
    {
     "name": "stdout",
     "output_type": "stream",
     "text": [
      "```json\n",
      "[\n",
      "    {\n",
      "        \"book_id\": 1,\n",
      "        \"title\": \"The Whispers of Eldoria\",\n",
      "        \"author\": \"Luna Starfield\",\n",
      "        \"genre\": \"Fantasy\"\n",
      "    },\n",
      "    {\n",
      "        \"book_id\": 2,\n",
      "        \"title\": \"Code of the Cipher\",\n",
      "        \"author\": \"Maxwell Rivers\",\n",
      "        \"genre\": \"Science Fiction\"\n",
      "    },\n",
      "    {\n",
      "        \"book_id\": 3,\n",
      "        \"title\": \"Echoes of a Forgotten Past\",\n",
      "        \"author\": \"Clara Windham\",\n",
      "        \"genre\": \"Historical Fiction\"\n",
      "    }\n",
      "]\n",
      "```\n"
     ]
    }
   ],
   "source": [
    "prompt = f\"\"\"\n",
    "Generate a list of three made-up book titles along \\ \n",
    "with their authors and genres. \n",
    "Provide them in JSON format with the following keys: \n",
    "book_id, title, author, genre.\n",
    "\"\"\"\n",
    "response = get_completion(prompt)\n",
    "print(response)\n"
   ]
  },
  {
   "cell_type": "code",
   "execution_count": 8,
   "metadata": {},
   "outputs": [
    {
     "name": "stdout",
     "output_type": "stream",
     "text": [
      "以下是以 JSON 格式提供的三本虚构书籍清单：\n",
      "\n",
      "```json\n",
      "[\n",
      "    {\n",
      "        \"book_id\": 1,\n",
      "        \"title\": \"梦境追寻\",\n",
      "        \"author\": \"李明\",\n",
      "        \"genre\": \"奇幻\"\n",
      "    },\n",
      "    {\n",
      "        \"book_id\": 2,\n",
      "        \"title\": \"时间的迷雾\",\n",
      "        \"author\": \"张华\",\n",
      "        \"genre\": \"科幻\"\n",
      "    },\n",
      "    {\n",
      "        \"book_id\": 3,\n",
      "        \"title\": \"失落的记忆\",\n",
      "        \"author\": \"王丽\",\n",
      "        \"genre\": \"悬疑\"\n",
      "    }\n",
      "]\n",
      "```\n"
     ]
    }
   ],
   "source": [
    "prompt = f\"\"\"\n",
    "请生成包括书名、作者和类别的三本虚构书籍清单，\\\n",
    "并以 JSON 格式提供，其中包含以下键:book_id、title、author、genre。\n",
    "\"\"\"\n",
    "response = get_completion(prompt)\n",
    "print(response)\n"
   ]
  },
  {
   "cell_type": "markdown",
   "metadata": {},
   "source": []
  },
  {
   "attachments": {},
   "cell_type": "markdown",
   "metadata": {},
   "source": [
    "**2.1.3 要求模型检查是否满足条件**\n",
    "\n",
    "如果任务包含不一定能满足的假设（条件），我们可以告诉模型先检查这些假设，如果不满足，则会指出并停止执行后续的完整流程。您还可以考虑可能出现的边缘情况及模型的应对，以避免意外的结果或错误发生。\n",
    "\n",
    "在如下示例中，我们将分别给模型两段文本，分别是制作茶的步骤以及一段没有明确步骤的文本。我们将要求模型判断其是否包含一系列指令，如果包含则按照给定格式重新编写指令，不包含则回答“未提供步骤”。"
   ]
  },
  {
   "cell_type": "code",
   "execution_count": 9,
   "metadata": {},
   "outputs": [
    {
     "name": "stdout",
     "output_type": "stream",
     "text": [
      "Completion for Text 1:\n",
      "Step 1 - Get some water boiling.  \n",
      "Step 2 - Grab a cup and put a tea bag in it.  \n",
      "Step 3 - Once the water is hot enough, pour it over the tea bag.  \n",
      "Step 4 - Let it sit for a bit so the tea can steep.  \n",
      "Step 5 - After a few minutes, take out the tea bag.  \n",
      "Step 6 - If you like, add some sugar or milk to taste.  \n",
      "Step 7 - Enjoy your delicious cup of tea!\n"
     ]
    }
   ],
   "source": [
    "text_1 = f\"\"\"\n",
    "Making a cup of tea is easy! First, you need to get some \\ \n",
    "water boiling. While that's happening, \\ \n",
    "grab a cup and put a tea bag in it. Once the water is \\ \n",
    "hot enough, just pour it over the tea bag. \\ \n",
    "Let it sit for a bit so the tea can steep. After a \\ \n",
    "few minutes, take out the tea bag. If you \\ \n",
    "like, you can add some sugar or milk to taste. \\ \n",
    "And that's it! You've got yourself a delicious \\ \n",
    "cup of tea to enjoy.\n",
    "\"\"\"\n",
    "prompt = f\"\"\"\n",
    "You will be provided with text delimited by triple quotes. \n",
    "If it contains a sequence of instructions, \\ \n",
    "re-write those instructions in the following format:\n",
    "\n",
    "Step 1 - ...\n",
    "Step 2 - …\n",
    "…\n",
    "Step N - …\n",
    "\n",
    "If the text does not contain a sequence of instructions, \\ \n",
    "then simply write \\\"No steps provided.\\\"\n",
    "\n",
    "\\\"\\\"\\\"{text_1}\\\"\\\"\\\"\n",
    "\"\"\"\n",
    "response = get_completion(prompt)\n",
    "print(\"Completion for Text 1:\")\n",
    "print(response)"
   ]
  },
  {
   "cell_type": "code",
   "execution_count": 10,
   "metadata": {},
   "outputs": [
    {
     "name": "stdout",
     "output_type": "stream",
     "text": [
      "Completion for Text 2:\n",
      "No steps provided.\n"
     ]
    }
   ],
   "source": [
    "text_2 = f\"\"\"\n",
    "The sun is shining brightly today, and the birds are \\\n",
    "singing. It's a beautiful day to go for a \\ \n",
    "walk in the park. The flowers are blooming, and the \\ \n",
    "trees are swaying gently in the breeze. People \\ \n",
    "are out and about, enjoying the lovely weather. \\ \n",
    "Some are having picnics, while others are playing \\ \n",
    "games or simply relaxing on the grass. It's a \\ \n",
    "perfect day to spend time outdoors and appreciate the \\ \n",
    "beauty of nature.\n",
    "\"\"\"\n",
    "prompt = f\"\"\"You will be provided with text delimited by triple quotes. \n",
    "If it contains a sequence of instructions, \\ \n",
    "re-write those instructions in the following format:\n",
    "Step 1 - ...\n",
    "Step 2 - …\n",
    "…\n",
    "Step N - …\n",
    "\n",
    "If the text does not contain a sequence of instructions, \\ \n",
    "then simply write \\\"No steps provided.\\\"\n",
    "\n",
    "\\\"\\\"\\\"{text_2}\\\"\\\"\\\"\n",
    "\"\"\"\n",
    "response = get_completion(prompt)\n",
    "print(\"Completion for Text 2:\")\n",
    "print(response)"
   ]
  },
  {
   "cell_type": "code",
   "execution_count": 11,
   "metadata": {},
   "outputs": [
    {
     "name": "stdout",
     "output_type": "stream",
     "text": [
      "Text 1 的总结:\n",
      "第一步 - 把水烧开。  \n",
      "第二步 - 拿一个杯子并把茶包放进去。  \n",
      "第三步 - 当水足够热时，将其倒在茶包上。  \n",
      "第四步 - 等待几分钟，让茶叶浸泡。  \n",
      "第五步 - 取出茶包。  \n",
      "第六步 - 如果您愿意，可以加一些糖或牛奶调味。  \n",
      "第七步 - 享受一杯美味的茶。  \n"
     ]
    }
   ],
   "source": [
    "# 满足条件的输入（text中提供了步骤）\n",
    "text_1 = f\"\"\"\n",
    "泡一杯茶很容易。首先，需要把水烧开。\\\n",
    "在等待期间，拿一个杯子并把茶包放进去。\\\n",
    "一旦水足够热，就把它倒在茶包上。\\\n",
    "等待一会儿，让茶叶浸泡。几分钟后，取出茶包。\\\n",
    "如果您愿意，可以加一些糖或牛奶调味。\\\n",
    "就这样，您可以享受一杯美味的茶了。\n",
    "\"\"\"\n",
    "prompt = f\"\"\"\n",
    "您将获得由三个引号括起来的文本。\\\n",
    "如果它包含一系列的指令，则需要按照以下格式重新编写这些指令：\n",
    "\n",
    "第一步 - ...\n",
    "第二步 - …\n",
    "…\n",
    "第N步 - …\n",
    "\n",
    "如果文本中不包含一系列的指令，则直接写“未提供步骤”。\"\n",
    "\\\"\\\"\\\"{text_1}\\\"\\\"\\\"\n",
    "\"\"\"\n",
    "response = get_completion(prompt)\n",
    "print(\"Text 1 的总结:\")\n",
    "print(response)"
   ]
  },
  {
   "cell_type": "code",
   "execution_count": 12,
   "metadata": {},
   "outputs": [
    {
     "name": "stdout",
     "output_type": "stream",
     "text": [
      "Text 2 的总结:\n",
      "未提供步骤。\n"
     ]
    }
   ],
   "source": [
    "# 不满足条件的输入（text中未提供预期指令）\n",
    "text_2 = f\"\"\"\n",
    "今天阳光明媚，鸟儿在歌唱。\\\n",
    "这是一个去公园散步的美好日子。\\\n",
    "鲜花盛开，树枝在微风中轻轻摇曳。\\\n",
    "人们外出享受着这美好的天气，有些人在野餐，有些人在玩游戏或者在草地上放松。\\\n",
    "这是一个完美的日子，可以在户外度过并欣赏大自然的美景。\n",
    "\"\"\"\n",
    "prompt = f\"\"\"\n",
    "您将获得由三个引号括起来的文本。\\\n",
    "如果它包含一系列的指令，则需要按照以下格式重新编写这些指令：\n",
    "\n",
    "第一步 - ...\n",
    "第二步 - …\n",
    "…\n",
    "第N步 - …\n",
    "\n",
    "如果文本中不包含一系列的指令，则直接写“未提供步骤”。\"\n",
    "\\\"\\\"\\\"{text_2}\\\"\\\"\\\"\n",
    "\"\"\"\n",
    "response = get_completion(prompt)\n",
    "print(\"Text 2 的总结:\")\n",
    "print(response)"
   ]
  },
  {
   "cell_type": "markdown",
   "metadata": {},
   "source": []
  },
  {
   "attachments": {},
   "cell_type": "markdown",
   "metadata": {},
   "source": [
    "**2.1.4 提供少量示例**（少样本提示词，Few-shot prompting）\n",
    "\n",
    "即在要求模型执行实际任务之前，提供给它少量成功执行任务的示例。\n",
    "\n",
    "例如，在以下的示例中，我们告诉模型其任务是以一致的风格回答问题，并先给它一个孩子和祖父之间的对话的例子。孩子说，“请教我何为耐心”，祖父用下述风格的隐喻来回答。由于我们已经告诉模型要以一致的语气回答，因此现在我们问“请教我何为韧性”，由于模型已经有了这个少样本示例( few-shot example )，它将以类似的语气回答下一个任务。"
   ]
  },
  {
   "cell_type": "code",
   "execution_count": 13,
   "metadata": {},
   "outputs": [
    {
     "name": "stdout",
     "output_type": "stream",
     "text": [
      "<grandparent>: The sturdy oak stands tall against the fiercest storms; the phoenix rises anew from the ashes; the diamond, shaped by immense pressure, reveals its brilliance.\n"
     ]
    }
   ],
   "source": [
    "prompt = f\"\"\"\n",
    "Your task is to answer in a consistent style.\n",
    "\n",
    "<child>: Teach me about patience.\n",
    "\n",
    "<grandparent>: The river that carves the deepest \\ \n",
    "valley flows from a modest spring; the \\ \n",
    "grandest symphony originates from a single note; \\ \n",
    "the most intricate tapestry begins with a solitary thread.\n",
    "\n",
    "<child>: Teach me about resilience.\n",
    "\"\"\"\n",
    "response = get_completion(prompt)\n",
    "print(response)"
   ]
  },
  {
   "cell_type": "code",
   "execution_count": 14,
   "metadata": {},
   "outputs": [
    {
     "name": "stdout",
     "output_type": "stream",
     "text": [
      "<祖父母>: 大海虽波涛汹涌，但每一朵浪花都知道如何重新升起；最坚固的树木也是在风雨中弯曲而不折；每一条流淌的河流都懂得如何绕过障碍，持之以恒。\n"
     ]
    }
   ],
   "source": [
    "prompt = f\"\"\"\n",
    "您的任务是以一致的风格回答问题。\n",
    "\n",
    "<孩子>: 教我耐心。\n",
    "\n",
    "<祖父母>: 挖出最深峡谷的河流源于一处不起眼的泉眼；最宏伟的交响乐从单一的音符开始；最复杂的挂毯以一根孤独的线开始编织。\n",
    "\n",
    "<孩子>: 教我韧性。\n",
    "\"\"\"\n",
    "response = get_completion(prompt)\n",
    "print(response)"
   ]
  },
  {
   "attachments": {},
   "cell_type": "markdown",
   "metadata": {},
   "source": [
    "### 2.2 给模型时间去思考\n",
    "\n",
    "如果您发现模型推理过程过于匆忙，导致得出了错误的结论，那么您应该尝试重新构思 Prompt ，要求模型在提供最终答案之前开展**思维链**，或进行一系列相关推理（a chain or series of relevant reasoning）。换句话说，如果您给模型一个在短时间内或用少量文字无法完成的复杂任务，它的输出结果就容易出错。这种情况对人来说也是类似：如果您要求某人完成复杂的数学问题，又不给足够时间计算出答案，他们也可能会犯错误。因此，在这些情况下，您应该指示模型花更多时间思考问题，让它在任务上花费更多计算资源。"
   ]
  },
  {
   "attachments": {},
   "cell_type": "markdown",
   "metadata": {},
   "source": [
    "**2.2.1 指定完成任务所需的步骤**\n",
    "\n",
    "接下来我们将通过给定一个复杂任务，给出完成该任务的一系列步骤，来展示这一策略的效果。"
   ]
  },
  {
   "attachments": {},
   "cell_type": "markdown",
   "metadata": {},
   "source": [
    "首先我们描述了杰克和吉尔的故事，并给出提示词执行以下操作：首先，用一句话概括三个反引号限定的文本。第二，将摘要翻译成法语。第三，在法语摘要中列出每个名称。第四，输出包含以下键的 JSON 对象：法语摘要和人名个数。要求输出以换行符分隔。"
   ]
  },
  {
   "cell_type": "code",
   "execution_count": 15,
   "metadata": {},
   "outputs": [
    {
     "name": "stdout",
     "output_type": "stream",
     "text": [
      "Completion for prompt 1:\n",
      "Jack and Jill, siblings in a village, embark on a quest for water but face a mishap when Jack tumbles down a hill, yet they return home undeterred and eager for more adventures. \n",
      "\n",
      "Dans un charmant village, les frères et sœurs Jack et Jill se sont lancés dans une quête pour chercher de l'eau, mais ils ont rencontré un incident lorsque Jack a chuté d'une colline, mais ils sont rentrés chez eux sans se décourager et désireux de vivre d'autres aventures.\n",
      "\n",
      "Jack, Jill\n",
      "\n",
      "{\n",
      "  \"french_summary\": \"Dans un charmant village, les frères et sœurs Jack et Jill se sont lancés dans une quête pour chercher de l'eau, mais ils ont rencontré un incident lorsque Jack a chuté d'une colline, mais ils sont rentrés chez eux sans se décourager et désireux de vivre d'autres aventures.\",\n",
      "  \"num_names\": 2\n",
      "}\n"
     ]
    }
   ],
   "source": [
    "text = f\"\"\"\n",
    "In a charming village, siblings Jack and Jill set out on \\ \n",
    "a quest to fetch water from a hilltop \\ \n",
    "well. As they climbed, singing joyfully, misfortune \\ \n",
    "struck—Jack tripped on a stone and tumbled \\ \n",
    "down the hill, with Jill following suit. \\ \n",
    "Though slightly battered, the pair returned home to \\ \n",
    "comforting embraces. Despite the mishap, \\ \n",
    "their adventurous spirits remained undimmed, and they \\ \n",
    "continued exploring with delight.\n",
    "\"\"\"\n",
    "# example 1\n",
    "prompt_1 = f\"\"\"\n",
    "Perform the following actions: \n",
    "1 - Summarize the following text delimited by triple \\\n",
    "backticks with 1 sentence.\n",
    "2 - Translate the summary into French.\n",
    "3 - List each name in the French summary.\n",
    "4 - Output a json object that contains the following \\\n",
    "keys: french_summary, num_names.\n",
    "\n",
    "Separate your answers with line breaks.\n",
    "\n",
    "Text:\n",
    "```{text}```\n",
    "\"\"\"\n",
    "response = get_completion(prompt_1)\n",
    "print(\"Completion for prompt 1:\")\n",
    "print(response)"
   ]
  },
  {
   "cell_type": "code",
   "execution_count": 16,
   "metadata": {},
   "outputs": [
    {
     "name": "stdout",
     "output_type": "stream",
     "text": [
      "prompt 1:\n",
      "兄妹杰克和吉尔在爬山打水时意外摔下山坡，但他们依然保持冒险精神，愉快地回到家中。  \n",
      "Les frères et sœurs Jack et Jill ont eu un accident en grimpant pour chercher de l'eau à un puits en haut de la montagne, mais leur esprit d'aventure demeure intact alors qu'ils rentrent chez eux joyeusement.  \n",
      "人名：Jack, Jill  \n",
      "```json\n",
      "{\n",
      "  \"French_summary\": \"Les frères et sœurs Jack et Jill ont eu un accident en grimpant pour chercher de l'eau à un puits en haut de la montagne, mais leur esprit d'aventure demeure intact alors qu'ils rentrent chez eux joyeusement.\",\n",
      "  \"num_names\": 2\n",
      "}\n",
      "```\n"
     ]
    }
   ],
   "source": [
    "text = f\"\"\"\n",
    "在一个迷人的村庄里，兄妹杰克和吉尔出发去一个山顶井里打水。\\\n",
    "他们一边唱着欢乐的歌，一边往上爬，\\\n",
    "然而不幸降临——杰克绊了一块石头，从山上滚了下来，吉尔紧随其后。\\\n",
    "虽然略有些摔伤，但他们还是回到了温馨的家中。\\\n",
    "尽管出了这样的意外，他们的冒险精神依然没有减弱，继续充满愉悦地探索。\n",
    "\"\"\"\n",
    "# example 1\n",
    "prompt_1 = f\"\"\"\n",
    "执行以下操作：\n",
    "1-用一句话概括下面用三个反引号括起来的文本。\n",
    "2-将摘要翻译成法语。\n",
    "3-在法语摘要中列出每个人名。\n",
    "4-输出一个 JSON 对象，其中包含以下键：French_summary，num_names。\n",
    "\n",
    "请用换行符分隔您的答案。\n",
    "\n",
    "Text:\n",
    "```{text}```\n",
    "\"\"\"\n",
    "response = get_completion(prompt_1)\n",
    "print(\"prompt 1:\")\n",
    "print(response)"
   ]
  },
  {
   "cell_type": "markdown",
   "metadata": {},
   "source": []
  },
  {
   "attachments": {},
   "cell_type": "markdown",
   "metadata": {},
   "source": [
    "上述输出仍然存在一定问题，例如，键“姓名”会被替换为法语（译注：在英文原版中，对应指令第三步的输出为 'Noms:',为Name的法语，这种行为难以预测，并可能为导出带来困难）\n",
    "\n",
    "因此，我们将Prompt加以改进，该 Prompt 前半部分不变，同时**确切指定了输出的格式**。"
   ]
  },
  {
   "cell_type": "code",
   "execution_count": 20,
   "metadata": {},
   "outputs": [
    {
     "name": "stdout",
     "output_type": "stream",
     "text": [
      "\n",
      "Completion for prompt 2:\n",
      "Summary: In a charming village, siblings Jack and Jill set off to fetch water from a hilltop well, but after Jack falls and rolls down the hill, Jill follows him; despite their minor injuries, they return home, maintaining their adventurous spirit and joy.  \n",
      "Translation: Dans un charmant village, les frères et sœurs Jack et Jill se sont mis en route pour chercher de l'eau à un puits au sommet d'une colline, mais après que Jack tombe et roule en bas de la colline, Jill le suit; malgré leurs blessures mineures, ils rentrent chez eux tout en préservant leur esprit d'aventure et leur joie.  \n",
      "Names: [Jack, Jill]  \n",
      "Output JSON: {\"french_summary\":\"Dans un charmant village, les frères et sœurs Jack et Jill se sont mis en route pour chercher de l'eau à un puits au sommet d'une colline, mais après que Jack tombe et roule en bas de la colline, Jill le suit; malgré leurs blessures mineures, ils rentrent chez eux tout en préservant leur esprit d'aventure et leur joie.\",\"num_names\":2}\n"
     ]
    }
   ],
   "source": [
    "prompt_2 = f\"\"\"\n",
    "Your task is to perform the following actions: \n",
    "1 - Summarize the following text delimited by <> with 1 sentence.\n",
    "2 - Translate the summary into French.\n",
    "3 - List each name in the French summary.\n",
    "4 - Output a json object that contains the \n",
    "following keys: french_summary, num_names.\n",
    "\n",
    "Use the following format:\n",
    "Text: <text to summarize>\n",
    "Summary: <summary>\n",
    "Translation: <summary translation>\n",
    "Names: <list of names in French summary>\n",
    "Output JSON: <json with summary and num_names>\n",
    "\n",
    "Text: <{text}>\n",
    "\"\"\"\n",
    "response = get_completion(prompt_2)\n",
    "print(\"\\nCompletion for prompt 2:\")\n",
    "print(response)"
   ]
  },
  {
   "cell_type": "code",
   "execution_count": 18,
   "metadata": {},
   "outputs": [
    {
     "name": "stdout",
     "output_type": "stream",
     "text": [
      "\n",
      "prompt 2:\n",
      "文本：<在一个迷人的村庄里，兄妹杰克和吉尔出发去一个山顶井里打水。他们一边唱着欢乐的歌，一边往上爬，然而不幸降临——杰克绊了一块石头，从山上滚了下来，吉尔紧随其后。虽然略有些摔伤，但他们还是回到了温馨的家中。尽管出了这样的意外，他们的冒险精神依然没有减弱，继续充满愉悦地探索。>\n",
      "摘要：杰克和吉尔在村庄中一起冒险去打水，但杰克摔下山，虽然受了点伤，他们依然怀着愉悦的心情回家并继续探索。\n",
      "翻译：Jack and Jill go on an adventure to fetch water in a village, but Jack falls down the hill; despite minor injuries, they return home in high spirits and continue to explore.\n",
      "名称：[\"Jack\", \"Jill\"]\n",
      "输出 JSON：{\"English_summary\":\"Jack and Jill go on an adventure to fetch water in a village, but Jack falls down the hill; despite minor injuries, they return home in high spirits and continue to explore.\",\"num_names\":2}\n"
     ]
    }
   ],
   "source": [
    "prompt_2 = f\"\"\"\n",
    "1-用一句话概括下面用<>括起来的文本。\n",
    "2-将摘要翻译成英语。\n",
    "3-在英语摘要中列出每个名称。\n",
    "4-输出一个 JSON 对象，其中包含以下键：English_summary，num_names。\n",
    "\n",
    "请使用以下格式：\n",
    "文本：<要总结的文本>\n",
    "摘要：<摘要>\n",
    "翻译：<摘要的翻译>\n",
    "名称：<英语摘要中的名称列表>\n",
    "输出 JSON：<带有 English_summary 和 num_names 的 JSON>\n",
    "\n",
    "Text: <{text}>\n",
    "\"\"\"\n",
    "response = get_completion(prompt_2)\n",
    "print(\"\\nprompt 2:\")\n",
    "print(response)"
   ]
  },
  {
   "attachments": {},
   "cell_type": "markdown",
   "metadata": {},
   "source": [
    " "
   ]
  },
  {
   "attachments": {},
   "cell_type": "markdown",
   "metadata": {},
   "source": [
    "**2.2.2 指导模型在下结论之前找出一个自己的解法**\n",
    "\n",
    "明确地指引模型在匆匆做决策之前，要自己思考出一份解决方案。有时这样会得到更好的结果。这与之前所述思想类似，即给模型时间思考。\n",
    "\n",
    "接下来我们会给出一个问题和一份来自学生的解答，要求模型判断解答是否正确："
   ]
  },
  {
   "cell_type": "code",
   "execution_count": 19,
   "metadata": {},
   "outputs": [
    {
     "name": "stdout",
     "output_type": "stream",
     "text": [
      "The student's solution is almost correct, but there is a small mistake in the calculation of the maintenance cost.\n",
      "\n",
      "Let's break it down:\n",
      "\n",
      "1. **Land cost:** \n",
      "   - The cost of land is $100 per square foot, so for \\(x\\) square feet, the cost is:\n",
      "   \\[\n",
      "   100x\n",
      "   \\]\n",
      "\n",
      "2. **Solar panel cost:**\n",
      "   - The cost of solar panels is $250 per square foot, so for \\(x\\) square feet, the cost is:\n",
      "   \\[\n",
      "   250x\n",
      "   \\]\n",
      "\n",
      "3. **Maintenance cost:**\n",
      "   - The student correctly states the flat maintenance cost is $100,000. \n",
      "   - The additional maintenance cost is $10 per square foot. Therefore, for \\(x\\) square feet, this additional cost is:\n",
      "   \\[\n",
      "   10x\n",
      "   \\]\n",
      "   Thus, the total maintenance cost is:\n",
      "   \\[\n",
      "   100,000 + 10x\n",
      "   \\]\n",
      "\n",
      "Now let's put it all together for the total cost:\n",
      "\n",
      "**Total Cost = Land Cost + Solar Panel Cost + Maintenance Cost**\n",
      "\\[\n",
      "\\text{Total Cost} = 100x + 250x + (100,000 + 10x)\n",
      "\\]\n",
      "Combining these, we have:\n",
      "\\[\n",
      "= 100x + 250x + 10x + 100,000\n",
      "\\]\n",
      "\\[\n",
      "= (100x + 250x + 10x) + 100,000\n",
      "\\]\n",
      "\\[\n",
      "= 360x + 100,000\n",
      "\\]\n",
      "\n",
      "So, the correct total cost for the first year, as a function of the number of square feet \\(x\\), is:\n",
      "\\[\n",
      "\\text{Total Cost} = 360x + 100,000\n",
      "\\]\n",
      "\n",
      "The student mistakenly calculated the maintenance part as \\(100x\\) instead of \\(10x\\). Therefore, they wrote the total cost as \\(450x + 100,000\\), which is incorrect. \n",
      "\n",
      "**Final Answer:** The student's solution is incorrect. The correct total cost is \\(360x + 100,000\\).\n"
     ]
    }
   ],
   "source": [
    "prompt = f\"\"\"\n",
    "Determine if the student's solution is correct or not.\n",
    "\n",
    "Question:\n",
    "I'm building a solar power installation and I need \\\n",
    " help working out the financials. \n",
    "- Land costs $100 / square foot\n",
    "- I can buy solar panels for $250 / square foot\n",
    "- I negotiated a contract for maintenance that will cost \\ \n",
    "me a flat $100k per year, and an additional $10 / square \\\n",
    "foot\n",
    "What is the total cost for the first year of operations \n",
    "as a function of the number of square feet.\n",
    "\n",
    "Student's Solution:\n",
    "Let x be the size of the installation in square feet.\n",
    "Costs:\n",
    "1. Land cost: 100x\n",
    "2. Solar panel cost: 250x\n",
    "3. Maintenance cost: 100,000 + 100x\n",
    "Total cost: 100x + 250x + 100,000 + 100x = 450x + 100,000\n",
    "\"\"\"\n",
    "response = get_completion(prompt)\n",
    "print(response)"
   ]
  },
  {
   "cell_type": "code",
   "execution_count": 21,
   "metadata": {},
   "outputs": [
    {
     "name": "stdout",
     "output_type": "stream",
     "text": [
      "学生的解决方案是正确的。让我们逐步分析一下每一部分的计算：\n",
      "\n",
      "1. **土地费用**：每平方英尺100美元，面积为x平方英尺，因此土地费用为：\n",
      "   \\[\n",
      "   100x\n",
      "   \\]\n",
      "\n",
      "2. **太阳能电池板费用**：每平方英尺250美元，面积为x平方英尺，因此太阳能电池板费用为：\n",
      "   \\[\n",
      "   250x\n",
      "   \\]\n",
      "\n",
      "3. **维护费用**：固定费用为100,000美元，另加每平方英尺10美元。因此，维护费用为：\n",
      "   \\[\n",
      "   100,000 + 10x\n",
      "   \\]\n",
      "\n",
      "现在，将所有费用加起来以计算总费用：\n",
      "\\[\n",
      "\\text{总费用} = \\text{土地费用} + \\text{太阳能电池板费用} + \\text{维护费用}\n",
      "\\]\n",
      "代入上面的值：\n",
      "\\[\n",
      "\\text{总费用} = 100x + 250x + (100,000 + 10x)\n",
      "\\]\n",
      "\n",
      "结合同类项：\n",
      "\\[\n",
      "\\text{总费用} = 100x + 250x + 10x + 100,000 = 450x + 100,000\n",
      "\\]\n",
      "\n",
      "因此，学生的最终结果是：\n",
      "\\[\n",
      "450x + 100,000\n",
      "\\]\n",
      "\n",
      "这个计算完全正确。\n"
     ]
    }
   ],
   "source": [
    "prompt = f\"\"\"\n",
    "判断学生的解决方案是否正确。\n",
    "\n",
    "问题:\n",
    "我正在建造一个太阳能发电站，需要帮助计算财务。\n",
    "\n",
    "    土地费用为 100美元/平方英尺\n",
    "    我可以以 250美元/平方英尺的价格购买太阳能电池板\n",
    "    我已经谈判好了维护合同，每年需要支付固定的10万美元，并额外支付每平方英尺10美元\n",
    "    作为平方英尺数的函数，首年运营的总费用是多少。\n",
    "\n",
    "学生的解决方案：\n",
    "设x为发电站的大小，单位为平方英尺。\n",
    "费用：\n",
    "\n",
    "    土地费用：100x\n",
    "    太阳能电池板费用：250x\n",
    "    维护费用：100,000美元+100x\n",
    "    总费用：100x+250x+100,000美元+100x=450x+100,000美元\n",
    "\"\"\"\n",
    "response = get_completion(prompt)\n",
    "print(response)"
   ]
  },
  {
   "cell_type": "markdown",
   "metadata": {},
   "source": []
  },
  {
   "attachments": {},
   "cell_type": "markdown",
   "metadata": {},
   "source": [
    "但是注意，学生的解决方案实际上是错误的。（*维护费用项100x应为10x，总费用450x应为360x*）\n",
    "\n",
    "我们可以通过指导模型先自行找出一个解法来解决这个问题。\n",
    "\n",
    "在接下来这个 Prompt 中，我们要求模型先自行解决这个问题，再根据自己的解法与学生的解法进行对比，从而判断学生的解法是否正确。同时，我们给定了输出的格式要求。通过拆分任务、明确步骤，让模型有更多时间思考，有时可以获得更准确的结果。在这个例子中，学生的答案是错误的，但如果我们没有先让模型自己计算，那么可能会被误导以为学生是正确的。"
   ]
  },
  {
   "cell_type": "code",
   "execution_count": 22,
   "metadata": {},
   "outputs": [
    {
     "name": "stdout",
     "output_type": "stream",
     "text": [
      "To determine the total cost for the first year of operations as a function of the number of square feet, we will calculate each component of the cost based on the information provided.\n",
      "\n",
      "1. **Land Costs**: \n",
      "   - The cost for land is $100 per square foot. \n",
      "   - If we denote the number of square feet as \\( x \\), the total land cost will be:\n",
      "     \\[\n",
      "     \\text{Land cost} = 100 \\cdot x\n",
      "     \\]\n",
      "\n",
      "2. **Solar Panels Costs**: \n",
      "   - The cost for solar panels is $250 per square foot. \n",
      "   - The total solar panel cost will be:\n",
      "     \\[\n",
      "     \\text{Solar panel cost} = 250 \\cdot x\n",
      "     \\]\n",
      "\n",
      "3. **Maintenance Costs**: \n",
      "   - The maintenance cost includes a flat fee of $100,000 plus $10 per square foot.\n",
      "   - Thus, the total maintenance cost will be:\n",
      "     \\[\n",
      "     \\text{Maintenance cost} = 100,000 + 10 \\cdot x\n",
      "     \\]\n",
      "\n",
      "Now, we sum these costs to find the total costs for the first year:\n",
      "\n",
      "\\[\n",
      "\\text{Total cost} = \\text{Land cost} + \\text{Solar panel cost} + \\text{Maintenance cost}\n",
      "\\]\n",
      "Substituting the individual costs we calculated earlier:\n",
      "\n",
      "\\[\n",
      "\\text{Total cost} = (100 \\cdot x) + (250 \\cdot x) + (100,000 + 10 \\cdot x)\n",
      "\\]\n",
      "Combining like terms, we get:\n",
      "\n",
      "\\[\n",
      "\\text{Total cost} = (100x + 250x + 10x) + 100,000 \n",
      "\\]\n",
      "\\[\n",
      "\\text{Total cost} = (100 + 250 + 10)x + 100,000 \n",
      "\\]\n",
      "\\[\n",
      "\\text{Total cost} = 360x + 100,000 \n",
      "\\]\n",
      "\n",
      "So, the total cost for the first year of operations as a function of the number of square feet is:\n",
      "\\[\n",
      "\\text{Total cost} = 360x + 100,000\n",
      "\\]\n",
      "\n",
      "Now, we compare this with the student's solution:\n",
      "\n",
      "Student's solution:\n",
      "```\n",
      "Let x be the size of the installation in square feet.\n",
      "Costs:\n",
      "1. Land cost: 100x\n",
      "2. Solar panel cost: 250x\n",
      "3. Maintenance cost: 100,000 + 100x\n",
      "Total cost: 100x + 250x + 100,000 + 100x = 450x + 100,000\n",
      "```\n",
      "\n",
      "Actual solution:\n",
      "```\n",
      "The total cost is calculated as:\n",
      "Total cost = Land cost + Solar panel cost + Maintenance cost\n",
      "Total cost = (100x) + (250x) + (100,000 + 10x)\n",
      "Total cost = (100 + 250 + 10)x + 100,000\n",
      "Total cost = 360x + 100,000\n",
      "```\n",
      "\n",
      "Is the student's solution the same as the actual solution just calculated:\n",
      "```\n",
      "no\n",
      "```\n",
      "Student grade:\n",
      "```\n",
      "incorrect\n",
      "```\n"
     ]
    }
   ],
   "source": [
    "prompt = f\"\"\"\n",
    "Your task is to determine if the student's solution \\\n",
    "is correct or not.\n",
    "To solve the problem do the following:\n",
    "- First, work out your own solution to the problem. \n",
    "- Then compare your solution to the student's solution \\ \n",
    "and evaluate if the student's solution is correct or not. \n",
    "Don't decide if the student's solution is correct until \n",
    "you have done the problem yourself.\n",
    "\n",
    "Use the following format:\n",
    "Question:\n",
    "```\n",
    "question here\n",
    "```\n",
    "Student's solution:\n",
    "```\n",
    "student's solution here\n",
    "```\n",
    "Actual solution:\n",
    "```\n",
    "steps to work out the solution and your solution here\n",
    "```\n",
    "Is the student's solution the same as actual solution \\\n",
    "just calculated:\n",
    "```\n",
    "yes or no\n",
    "```\n",
    "Student grade:\n",
    "```\n",
    "correct or incorrect\n",
    "```\n",
    "\n",
    "Question:\n",
    "```\n",
    "I'm building a solar power installation and I need help \\\n",
    "working out the financials. \n",
    "- Land costs $100 / square foot\n",
    "- I can buy solar panels for $250 / square foot\n",
    "- I negotiated a contract for maintenance that will cost \\\n",
    "me a flat $100k per year, and an additional $10 / square \\\n",
    "foot\n",
    "What is the total cost for the first year of operations \\\n",
    "as a function of the number of square feet.\n",
    "``` \n",
    "Student's solution:\n",
    "```\n",
    "Let x be the size of the installation in square feet.\n",
    "Costs:\n",
    "1. Land cost: 100x\n",
    "2. Solar panel cost: 250x\n",
    "3. Maintenance cost: 100,000 + 100x\n",
    "Total cost: 100x + 250x + 100,000 + 100x = 450x + 100,000\n",
    "```\n",
    "Actual solution:\n",
    "\"\"\"\n",
    "response = get_completion(prompt)\n",
    "print(response)"
   ]
  },
  {
   "cell_type": "code",
   "execution_count": 23,
   "metadata": {},
   "outputs": [
    {
     "name": "stdout",
     "output_type": "stream",
     "text": [
      "问题：我正在建造一个太阳能发电站，需要帮助计算财务。\n",
      "- 土地费用为每平方英尺100美元\n",
      "- 我可以以每平方英尺250美元的价格购买太阳能电池板\n",
      "- 我已经谈判好了维护合同，每年需要支付固定的10万美元，并额外支付每平方英尺10美元\n",
      "作为平方英尺数的函数，首年运营的总费用是多少。\n",
      "\n",
      "学生的解决方案：\n",
      "设x为发电站的大小，单位为平方英尺。\n",
      "费用：\n",
      "1. 土地费用：100x\n",
      "2. 太阳能电池板费用：250x\n",
      "3. 维护费用：100,000 + 100x\n",
      "总费用：100x + 250x + 100,000 + 100x = 450x + 100,000\n",
      "\n",
      "实际解决方案和步骤：\n",
      "1. 土地费用 = 每平方英尺费用 × 总面积\n",
      "   土地费用 = 100 × x = 100x\n",
      "\n",
      "2. 太阳能电池板费用 = 每平方英尺费用 × 总面积\n",
      "   太阳能电池板费用 = 250 × x = 250x\n",
      "\n",
      "3. 维护费用 = 固定费用 + 每平方英尺维护费用 × 总面积\n",
      "   维护费用 = 100,000 + 10 × x = 100,000 + 10x\n",
      "\n",
      "将所有费用相加以获得总费用：\n",
      "总费用 = 土地费用 + 太阳能电池板费用 + 维护费用\n",
      "总费用 = 100x + 250x + (100,000 + 10x)\n",
      "总费用 = 100x + 250x + 100,000 + 10x\n",
      "总费用 = (100 + 250 + 10)x + 100,000\n",
      "总费用 = 360x + 100,000\n",
      "\n",
      "**学生的计算结果：学生的计算结果文本\n",
      "学生的计算结果：450x + 100,000\n",
      "实际计算结果：360x + 100,000\n",
      "学生的计算结果和实际计算结果是否相同：否\n",
      "学生的解决方案和实际解决方案是否相同：否**\n",
      "学生的成绩：不正确\n"
     ]
    }
   ],
   "source": [
    "prompt = f\"\"\"\n",
    "请判断学生的解决方案是否正确，请通过如下步骤解决这个问题：\n",
    "\n",
    "步骤：\n",
    "首先，自己解决问题，解决问题时列数学表达式。\n",
    "然后将您的解决方案与学生的解决方案进行比较，并评估学生的解决方案是否正确。\n",
    "在自己完成问题之前，请勿决定学生的解决方案是否正确。\n",
    "\n",
    "使用以下格式：\n",
    "\n",
    "问题：问题文本\n",
    "学生的解决方案：学生的解决方案文本\n",
    "实际解决方案和步骤：实际解决方案和步骤文本\n",
    "**学生的计算结果：学生的计算结果文本\n",
    "实际计算结果：实际计算结果文本\n",
    "学生的计算结果和实际计算结果是否相同：是或否\n",
    "学生的解决方案和实际解决方案是否相同：是或否**\n",
    "学生的成绩：正确或不正确\n",
    "\n",
    "问题：\n",
    "我正在建造一个太阳能发电站，需要帮助计算财务。\n",
    "- 土地费用为每平方英尺100美元\n",
    "- 我可以以每平方英尺250美元的价格购买太阳能电池板\n",
    "- 我已经谈判好了维护合同，每年需要支付固定的10万美元，并额外支付每平方英尺10美元\n",
    "作为平方英尺数的函数，首年运营的总费用是多少。\n",
    "\n",
    "学生的解决方案：\n",
    "\n",
    "设x为发电站的大小，单位为平方英尺。\n",
    "费用：\n",
    "1. 土地费用：100x\n",
    "2. 太阳能电池板费用：250x\n",
    "3. 维护费用：100,000+100x\n",
    "总费用：100x+250x+100,000+100x=450x+100,000\n",
    "\n",
    "实际解决方案和步骤：\n",
    "\"\"\"\n",
    "response = get_completion(prompt)\n",
    "print(response)"
   ]
  },
  {
   "cell_type": "markdown",
   "metadata": {},
   "source": []
  },
  {
   "attachments": {},
   "cell_type": "markdown",
   "metadata": {},
   "source": [
    "## 三、局限性"
   ]
  },
  {
   "attachments": {},
   "cell_type": "markdown",
   "metadata": {},
   "source": [
    "**开发大模型相关应用时请务必铭记：**\n",
    "\n",
    "\n",
    "**虚假知识**：模型偶尔会生成一些看似真实实则编造的知识\n",
    "\n",
    "虽然模型在训练过程中接触了大量的知识，但它并没有*完全*记住所见的信息，因此它不甚清楚自己知识的边界。这意味着它可能会尝试回答主题晦涩难懂的问题，并编造听起来合理但实际上并不正确的答案。我们称这些编造的想法为幻觉（Hallucination）。\n",
    "\n",
    "如下示例展示了大模型的幻觉。我们要求告诉我们 Boie 公司生产的 *AeroGlide UltraSlim Smart Toothbrush* 产品的信息，事实上，这个公司是真实存在的，但产品是编造的，而模型一本正经地提供了它编造的知识，而且迷惑性很强。\n",
    "\n"
   ]
  },
  {
   "cell_type": "code",
   "execution_count": 24,
   "metadata": {},
   "outputs": [
    {
     "name": "stdout",
     "output_type": "stream",
     "text": [
      "The AeroGlide UltraSlim Smart Toothbrush by Boie is designed to offer a modern and effective approach to oral hygiene. Here are some of its main features and characteristics:\n",
      "\n",
      "1. **Slim Design**: The UltraSlim design makes it easy to handle and maneuver while brushing, which can enhance the overall brushing experience.\n",
      "\n",
      "2. **Smart Technology**: This toothbrush is equipped with smart technology features that may include connectivity to smartphones or apps. This allows users to track their brushing habits, receive reminders, and access personalized tips for better oral care.\n",
      "\n",
      "3. **Sustainable Materials**: Boie emphasizes sustainability, often using eco-friendly materials in their products. The AeroGlide may feature replaceable heads to reduce waste, allowing users to keep the handle while changing out the brush heads.\n",
      "\n",
      "4. **Performance**: The bristles are designed to effectively clean teeth and promote gum health. Some models may also have advanced bristle technology for enhanced plaque removal.\n",
      "\n",
      "5. **User-Friendly**: The toothbrush is likely to include intuitive controls, making it easy for users to operate, even in the case of smart features.\n",
      "\n",
      "6. **Battery Life**: If it includes smart functions, the battery life is typically designed for extended use, ensuring that users don't need frequent recharging.\n",
      "\n",
      "7. **Aesthetic Appeal**: Boie's products often have a sleek and modern aesthetic that appeals to a wide range of consumers.\n",
      "\n",
      "For the latest information on features, specifications, and user reviews, it's always a good idea to check the official Boie website or trusted retailers.\n"
     ]
    }
   ],
   "source": [
    "prompt = f\"\"\"\n",
    "Tell me about AeroGlide UltraSlim Smart Toothbrush by Boie\n",
    "\"\"\"\n",
    "response = get_completion(prompt)\n",
    "print(response)"
   ]
  },
  {
   "cell_type": "code",
   "execution_count": 25,
   "metadata": {},
   "outputs": [
    {
     "name": "stdout",
     "output_type": "stream",
     "text": [
      "Boie 公司生产的 AeroGlide UltraSlim Smart Toothbrush 是一款高科技智能牙刷，旨在提高口腔卫生和用户的刷牙体验。以下是一些可能的相关信息：\n",
      "\n",
      "1. **设计**：AeroGlide UltraSlim Toothbrush 采用超薄设计，便于握持和使用。其流线型外观不仅现代，还具有极高的美观性。\n",
      "\n",
      "2. **智能功能**：该牙刷可能配备智能传感器，能够分析用户的刷牙习惯，提供实时反馈，帮助用户改善刷牙技巧。同时，可能会有与手机应用程序的连接功能，用户可以通过应用程序查看刷牙数据和建议。\n",
      "\n",
      "3. **刷牙模式**：该牙刷可能提供多种刷牙模式，以满足不同用户的需求，如敏感模式、深层清洁模式等。\n",
      "\n",
      "4. **电池续航**：预期该牙刷具有持久的电池续航能力，通常可以在充满电后使用数周。\n",
      "\n",
      "5. **清洁效果**：高效的刷头设计旨在提高清洁效果，去除牙齿表面的污垢和牙菌斑。\n",
      "\n",
      "6. **材料**：材料安全且符合卫生标准，牙刷的刷毛可能使用抗菌材质，以提高使用的安全性。\n",
      "\n",
      "如果您想要更详细的信息，建议访问 Boie 官方网站或查看产品说明书，以获取最新和最准确的产品数据。\n"
     ]
    }
   ],
   "source": [
    "prompt = f\"\"\"\n",
    "告诉我 Boie 公司生产的 AeroGlide UltraSlim Smart Toothbrush 的相关信息\n",
    "\"\"\"\n",
    "response = get_completion(prompt)\n",
    "print(response)"
   ]
  },
  {
   "cell_type": "markdown",
   "metadata": {},
   "source": []
  },
  {
   "attachments": {},
   "cell_type": "markdown",
   "metadata": {},
   "source": [
    "由于很容易以假乱真，请读者根据在本系列教程中所学知识，在构建自己的应用程序时尽量避免幻觉情况。幻觉是大模型的一个已知缺陷（注：截至2023年7月），OpenAI也在努力解决该问题。\n",
    "\n",
    "在您希望模型根据文本生成回答时，另一种减少幻觉的策略是先要求模型获取来源于该文本的所有引用信息（任何相关引用，any relevant quotes），然后要求它基于所引用的信息来回答问题，这使得我们能根据答案追溯源文档，通常对减少幻觉非常有帮助。"
   ]
  },
  {
   "attachments": {},
   "cell_type": "markdown",
   "metadata": {},
   "source": [
    "**关于反斜杠使用的说明：**\n",
    "\n",
    "在本教程中，我们使用反斜杠 \\ 来使文本适应屏幕大小以提高阅读体验，而没有用换行符 \\n 。GPT-3 并不受换行符（newline characters）的影响，但在您调用其他大模型时，需额外考虑换行符是否会影响模型性能。"
   ]
  }
 ],
 "metadata": {
  "kernelspec": {
   "display_name": "env_py39",
   "language": "python",
   "name": "python3"
  },
  "language_info": {
   "codemirror_mode": {
    "name": "ipython",
    "version": 3
   },
   "file_extension": ".py",
   "mimetype": "text/x-python",
   "name": "python",
   "nbconvert_exporter": "python",
   "pygments_lexer": "ipython3",
   "version": "3.9.20"
  },
  "latex_envs": {
   "LaTeX_envs_menu_present": true,
   "autoclose": false,
   "autocomplete": true,
   "bibliofile": "biblio.bib",
   "cite_by": "apalike",
   "current_citInitial": 1,
   "eqLabelWithNumbers": true,
   "eqNumInitial": 1,
   "hotkeys": {
    "equation": "Ctrl-E",
    "itemize": "Ctrl-I"
   },
   "labels_anchors": false,
   "latex_user_defs": false,
   "report_style_numbering": false,
   "user_envs_cfg": false
  },
  "toc": {
   "base_numbering": 1,
   "nav_menu": {},
   "number_sections": true,
   "sideBar": true,
   "skip_h1_title": false,
   "title_cell": "Table of Contents",
   "title_sidebar": "Contents",
   "toc_cell": false,
   "toc_position": {},
   "toc_section_display": true,
   "toc_window_display": true
  }
 },
 "nbformat": 4,
 "nbformat_minor": 4
}
