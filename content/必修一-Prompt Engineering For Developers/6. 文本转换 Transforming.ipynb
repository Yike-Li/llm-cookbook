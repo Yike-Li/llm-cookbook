{
 "cells": [
  {
   "cell_type": "markdown",
   "id": "08879154",
   "metadata": {
    "pycharm": {
     "name": "#%% md\n"
    }
   },
   "source": [
    "# 第六章 文本转换"
   ]
  },
  {
   "cell_type": "markdown",
   "id": "c885ce7b",
   "metadata": {
    "pycharm": {
     "name": "#%% md\n"
    }
   },
   "source": [
    "<div class=\"toc\">\n",
    " <ul class=\"toc-item\">\n",
    "     <li><span><a href=\"#一引言\" data-toc-modified-id=\"一、引言\">一、引言</a></span></li>\n",
    "     <li>\n",
    "         <span><a href=\"#二文本翻译\" data-toc-modified-id=\"二、文本翻译\">二、文本翻译</a></span>\n",
    "         <ul class=\"toc-item\">\n",
    "             <li><span><a href=\"#21-中文转西班牙语\" data-toc-modified-id=\"2.1 中文转西班牙语\">2.1 中文转西班牙语</a></span></li> \n",
    "             <li><span><a href=\"#22-识别语种\" data-toc-modified-id=\"2.2 识别语种\">2.2 识别语种</a></span></li>\n",
    "             <li><span><a href=\"#23-多语种翻译\" data-toc-modified-id=\"2.3 多语种翻译\">2.3 多语种翻译</a></span></li>\n",
    "             <li><span><a href=\"#24-同时进行语气转换\" data-toc-modified-id=\"2.4 同时进行语气转换\">2.4 同时进行语气转换</a></span></li>\n",
    "             <li><span><a href=\"#25-通用翻译器\" data-toc-modified-id=\"2.5 通用翻译器\">2.5 通用翻译器</a></span></li>\n",
    "             </ul>\n",
    "         </li>\n",
    "     <li><span><a href=\"#三语气与写作风格调整\" data-toc-modified-id=\"三、语气与写作风格调整\">三、语气与写作风格调整</a></span></li>\n",
    "     <li><span><a href=\"#四文件格式转换\" data-toc-modified-id=\"四、文件格式转换\">四、文件格式转换</a></span></li>\n",
    "     <li><span><a href=\"#五拼写及语法纠正\" data-toc-modified-id=\"五、拼写及语法纠正\">五、拼写及语法纠正</a></span></li>\n",
    "     <li><span><a href=\"#六综合样例\" data-toc-modified-id=\"六、综合样例\">六、综合样例</a></span></li>\n",
    "     </ul>\n",
    "</div>"
   ]
  },
  {
   "attachments": {},
   "cell_type": "markdown",
   "id": "78624add",
   "metadata": {
    "pycharm": {
     "name": "#%% md\n"
    }
   },
   "source": [
    "## 一、引言"
   ]
  },
  {
   "attachments": {},
   "cell_type": "markdown",
   "id": "2fac57c2",
   "metadata": {
    "pycharm": {
     "name": "#%% md\n"
    }
   },
   "source": [
    "LLM非常擅长将输入转换成不同的格式，典型应用包括多语种文本翻译、拼写及语法纠正、语气调整、格式转换等。\n",
    "\n",
    "本章节将介绍如何使用编程的方式，调用API接口来实现“文本转换”功能。"
   ]
  },
  {
   "attachments": {},
   "cell_type": "markdown",
   "id": "f7816496",
   "metadata": {
    "pycharm": {
     "name": "#%% md\n"
    }
   },
   "source": [
    "首先，我们需要OpenAI包，加载API密钥，定义getCompletion函数。"
   ]
  },
  {
   "cell_type": "code",
   "execution_count": 2,
   "id": "ac57ad72",
   "metadata": {
    "pycharm": {
     "name": "#%%\n"
    }
   },
   "outputs": [],
   "source": [
    "import sys\n",
    "import os\n",
    "\n",
    "current_dir = os.getcwd()\n",
    "target_dir = os.path.abspath(os.path.join(current_dir, '..', '..'))\n",
    "sys.path.append(target_dir)\n",
    "\n",
    "from utils import get_completion\n"
   ]
  },
  {
   "attachments": {},
   "cell_type": "markdown",
   "id": "bf3733d4",
   "metadata": {
    "pycharm": {
     "name": "#%% md\n"
    }
   },
   "source": [
    "## 二、文本翻译"
   ]
  },
  {
   "attachments": {},
   "cell_type": "markdown",
   "id": "1b418e32",
   "metadata": {
    "pycharm": {
     "name": "#%% md\n"
    }
   },
   "source": [
    "### 2.1 中文转西班牙语"
   ]
  },
  {
   "cell_type": "code",
   "execution_count": 3,
   "id": "5b521646",
   "metadata": {
    "pycharm": {
     "name": "#%%\n"
    }
   },
   "outputs": [
    {
     "name": "stdout",
     "output_type": "stream",
     "text": [
      "Sure! The translation of \"Hi, I would like to order a blender\" to Spanish is: \n",
      "\n",
      "\"Hola, me gustaría pedir una licuadora.\"\n"
     ]
    }
   ],
   "source": [
    "prompt = f\"\"\"\n",
    "Translate the following English text to Spanish: \\ \n",
    "```Hi, I would like to order a blender```\n",
    "\"\"\"\n",
    "response = get_completion(prompt)\n",
    "print(response)"
   ]
  },
  {
   "cell_type": "code",
   "execution_count": 4,
   "id": "8a5bee0c",
   "metadata": {
    "pycharm": {
     "name": "#%%\n"
    },
    "scrolled": true
   },
   "outputs": [
    {
     "name": "stdout",
     "output_type": "stream",
     "text": [
      "您好，我想订购一个搅拌机。翻译成西班牙语是：\n",
      "\n",
      "\"Hola, me gustaría pedir una licuadora.\"\n"
     ]
    }
   ],
   "source": [
    "prompt = f\"\"\"\n",
    "将以下中文翻译成西班牙语: \\ \n",
    "```您好，我想订购一个搅拌机。```\n",
    "\"\"\"\n",
    "response = get_completion(prompt)\n",
    "print(response)"
   ]
  },
  {
   "cell_type": "markdown",
   "id": "7e7be208",
   "metadata": {
    "pycharm": {
     "name": "#%% md\n"
    }
   },
   "source": []
  },
  {
   "attachments": {},
   "cell_type": "markdown",
   "id": "e3e922b4",
   "metadata": {
    "pycharm": {
     "name": "#%% md\n"
    }
   },
   "source": [
    "### 2.2 识别语种"
   ]
  },
  {
   "cell_type": "code",
   "execution_count": 5,
   "id": "769b6e2e",
   "metadata": {
    "pycharm": {
     "name": "#%%\n"
    }
   },
   "outputs": [
    {
     "name": "stdout",
     "output_type": "stream",
     "text": [
      "The language is French. The phrase translates to \"How much does the streetlamp cost?\" in English.\n"
     ]
    }
   ],
   "source": [
    "prompt = f\"\"\"\n",
    "Tell me which language this is: \n",
    "```Combien coûte le lampadaire?```\n",
    "\"\"\"\n",
    "response = get_completion(prompt)\n",
    "print(response)\n"
   ]
  },
  {
   "cell_type": "code",
   "execution_count": 6,
   "id": "c2c66002",
   "metadata": {
    "pycharm": {
     "name": "#%%\n"
    }
   },
   "outputs": [
    {
     "name": "stdout",
     "output_type": "stream",
     "text": [
      "这段文本是法语，意思是“路灯多少钱？”\n"
     ]
    }
   ],
   "source": [
    "prompt = f\"\"\"\n",
    "请告诉我以下文本是什么语种: \n",
    "```Combien coûte le lampadaire?```\n",
    "\"\"\"\n",
    "response = get_completion(prompt)\n",
    "print(response)"
   ]
  },
  {
   "cell_type": "markdown",
   "id": "8a9477e9",
   "metadata": {
    "pycharm": {
     "name": "#%% md\n"
    }
   },
   "source": []
  },
  {
   "attachments": {},
   "cell_type": "markdown",
   "id": "c1841354",
   "metadata": {
    "pycharm": {
     "name": "#%% md\n"
    }
   },
   "source": [
    "### 2.3 多语种翻译"
   ]
  },
  {
   "cell_type": "code",
   "execution_count": 7,
   "id": "a53bc53b",
   "metadata": {
    "pycharm": {
     "name": "#%%\n"
    }
   },
   "outputs": [
    {
     "name": "stdout",
     "output_type": "stream",
     "text": [
      "Here are the translations:\n",
      "\n",
      "**French:** Je veux commander un ballon de basket.\n",
      "\n",
      "**Spanish:** Quiero pedir un balón de baloncesto.\n",
      "\n",
      "**English pirate:** I be wantin' to order a basketball, aye!\n"
     ]
    }
   ],
   "source": [
    "prompt = f\"\"\"\n",
    "Translate the following  text to French and Spanish\n",
    "and English pirate: \\\n",
    "```I want to order a basketball```\n",
    "\"\"\"\n",
    "response = get_completion(prompt)\n",
    "print(response)\n"
   ]
  },
  {
   "cell_type": "code",
   "execution_count": 8,
   "id": "b0c4fa41",
   "metadata": {
    "pycharm": {
     "name": "#%%\n"
    }
   },
   "outputs": [
    {
     "name": "stdout",
     "output_type": "stream",
     "text": [
      "以下是文本的翻译：\n",
      "\n",
      "中文：我想订购一个篮球。\n",
      "\n",
      "英文：I want to order a basketball. (原文)\n",
      "\n",
      "法语：Je veux commander un ballon de basket.\n",
      "\n",
      "西班牙语：Quiero pedir un balón de baloncesto.\n"
     ]
    }
   ],
   "source": [
    "prompt = f\"\"\"\n",
    "请将以下文本分别翻译成中文、英文、法语和西班牙语: \n",
    "```I want to order a basketball.```\n",
    "\"\"\"\n",
    "response = get_completion(prompt)\n",
    "print(response)"
   ]
  },
  {
   "cell_type": "markdown",
   "id": "8d5022c7",
   "metadata": {
    "pycharm": {
     "name": "#%% md\n"
    }
   },
   "source": []
  },
  {
   "attachments": {},
   "cell_type": "markdown",
   "id": "68723ba5",
   "metadata": {
    "pycharm": {
     "name": "#%% md\n"
    }
   },
   "source": [
    "### 2.4 同时进行语气转换"
   ]
  },
  {
   "cell_type": "code",
   "execution_count": 9,
   "id": "a4770dcc",
   "metadata": {
    "pycharm": {
     "name": "#%%\n"
    }
   },
   "outputs": [
    {
     "name": "stdout",
     "output_type": "stream",
     "text": [
      "Formal: ¿Le gustaría pedir una almohada?  \n",
      "Informal: ¿Te gustaría pedir una almohada?\n"
     ]
    }
   ],
   "source": [
    "prompt = f\"\"\"\n",
    "Translate the following text to Spanish in both the \\\n",
    "formal and informal forms: \n",
    "'Would you like to order a pillow?'\n",
    "\"\"\"\n",
    "response = get_completion(prompt)\n",
    "print(response)\n"
   ]
  },
  {
   "cell_type": "code",
   "execution_count": 10,
   "id": "2c52ca54",
   "metadata": {
    "pycharm": {
     "name": "#%%\n"
    }
   },
   "outputs": [
    {
     "name": "stdout",
     "output_type": "stream",
     "text": [
      "正式语气：您想要订购一个枕头吗？\n",
      "\n",
      "非正式语气：你想要买个枕头吗？\n"
     ]
    }
   ],
   "source": [
    "prompt = f\"\"\"\n",
    "请将以下文本翻译成中文，分别展示成正式与非正式两种语气: \n",
    "```Would you like to order a pillow?```\n",
    "\"\"\"\n",
    "response = get_completion(prompt)\n",
    "print(response)"
   ]
  },
  {
   "cell_type": "markdown",
   "id": "7b7f6c87",
   "metadata": {
    "pycharm": {
     "name": "#%% md\n"
    }
   },
   "source": []
  },
  {
   "attachments": {},
   "cell_type": "markdown",
   "id": "b2dc4c56",
   "metadata": {
    "pycharm": {
     "name": "#%% md\n"
    }
   },
   "source": [
    "### 2.5 通用翻译器"
   ]
  },
  {
   "attachments": {},
   "cell_type": "markdown",
   "id": "54b00aa4",
   "metadata": {
    "pycharm": {
     "name": "#%% md\n"
    }
   },
   "source": [
    "随着全球化与跨境商务的发展，交流的用户可能来自各个不同的国家，使用不同的语言，因此我们需要一个通用翻译器，识别各个消息的语种，并翻译成目标用户的母语，从而实现更方便的跨国交流。"
   ]
  },
  {
   "cell_type": "code",
   "execution_count": 12,
   "id": "21f3af91",
   "metadata": {
    "pycharm": {
     "name": "#%%\n"
    }
   },
   "outputs": [],
   "source": [
    "user_messages = [\n",
    "  \"La performance du système est plus lente que d'habitude.\",  # System performance is slower than normal         \n",
    "  \"Mi monitor tiene píxeles que no se iluminan.\",              # My monitor has pixels that are not lighting\n",
    "  \"Il mio mouse non funziona\",                                 # My mouse is not working\n",
    "  \"Mój klawisz Ctrl jest zepsuty\",                             # My keyboard has a broken control key\n",
    "  \"我的屏幕在闪烁\"                                             # My screen is flashing\n",
    "]"
   ]
  },
  {
   "cell_type": "code",
   "execution_count": 13,
   "id": "5cb69e31",
   "metadata": {
    "pycharm": {
     "name": "#%%\n"
    }
   },
   "outputs": [
    {
     "name": "stdout",
     "output_type": "stream",
     "text": [
      "Original message (The language is French. The sentence translates to \"The performance of the system is slower than usual.\" in English.): La performance du système est plus lente que d'habitude.\n",
      "**English:** The performance of the system is slower than usual.\n",
      "\n",
      "**Korean:** 시스템의 성능이 평소보다 느립니다. \n",
      "\n",
      "Original message (The language of the sentence is Spanish. It translates to \"My monitor has pixels that do not light up.\"): Mi monitor tiene píxeles que no se iluminan.\n",
      "The translation of the text is:\n",
      "\n",
      "**English:** \"My monitor has pixels that do not light up.\"\n",
      "\n",
      "**Korean:** \"내 모니터에는 불이 켜지지 않는 픽셀이 있습니다.\" \n",
      "\n",
      "Original message (The sentence \"Il mio mouse non funziona\" is in Italian. It translates to \"My mouse is not working\" in English.): Il mio mouse non funziona\n",
      "Here is the translation of the text:\n",
      "\n",
      "**English:** My mouse doesn't work.\n",
      "\n",
      "**Korean:** 내 마우스가 작동하지 않아요. \n",
      "\n",
      "Original message (The language of the phrase \"Mój klawisz Ctrl jest zepsuty\" is Polish. It translates to \"My Ctrl key is broken\" in English.): Mój klawisz Ctrl jest zepsuty\n",
      "The translation of the text is:\n",
      "\n",
      "**English:** \"My Ctrl key is broken.\"\n",
      "\n",
      "**Korean:** \"내 Ctrl 키가 고장났어요.\" \n",
      "\n",
      "Original message (The language is Chinese. The phrase \"我的屏幕在闪烁\" translates to \"My screen is flickering\" in English.): 我的屏幕在闪烁\n",
      "The translation of the text is:\n",
      "\n",
      "English: \"My screen is flickering.\"\n",
      "\n",
      "Korean: \"내 화면이 깜박이고 있어요.\" \n",
      "\n"
     ]
    }
   ],
   "source": [
    "for issue in user_messages:\n",
    "    prompt = f\"Tell me what language this is: ```{issue}```\"\n",
    "    lang = get_completion(prompt)\n",
    "    print(f\"Original message ({lang}): {issue}\")\n",
    "\n",
    "    prompt = f\"\"\"\n",
    "    Translate the following  text to English \\\n",
    "    and Korean: ```{issue}```\n",
    "    \"\"\"\n",
    "    response = get_completion(prompt)\n",
    "    print(response, \"\\n\")\n"
   ]
  },
  {
   "cell_type": "code",
   "execution_count": 14,
   "id": "6a884190",
   "metadata": {
    "pycharm": {
     "name": "#%%\n"
    }
   },
   "outputs": [
    {
     "name": "stdout",
     "output_type": "stream",
     "text": [
      "原始消息 (法语): La performance du système est plus lente que d'habitude.\n",
      "\n",
      "中文翻译：系统的性能比平常慢。\n",
      "英文翻译：The system's performance is slower than usual. \n",
      "=========================================\n",
      "原始消息 (西班牙语): Mi monitor tiene píxeles que no se iluminan.\n",
      "\n",
      "中文翻译：我的显示器有些像素不亮。  \n",
      "英文翻译：My monitor has pixels that do not light up. \n",
      "=========================================\n",
      "原始消息 (意大利语): Il mio mouse non funziona\n",
      "\n",
      "中文翻译：我的鼠标不工作  \n",
      "英文翻译：My mouse is not working \n",
      "=========================================\n",
      "原始消息 (波兰语): Mój klawisz Ctrl jest zepsuty\n",
      "\n",
      "中文翻译：我的Ctrl键坏了  \n",
      "英文翻译：My Ctrl key is broken   \n",
      "=========================================\n",
      "原始消息 (中文): 我的屏幕在闪烁\n",
      "\n",
      "中文翻译：我的屏幕在闪烁  \n",
      "英文翻译：My screen is flickering   \n",
      "=========================================\n"
     ]
    }
   ],
   "source": [
    "import time\n",
    "for issue in user_messages:\n",
    "    time.sleep(20)\n",
    "    prompt = f\"告诉我以下文本是什么语种，直接输出语种，如法语，无需输出标点符号: ```{issue}```\"\n",
    "    lang = get_completion(prompt)\n",
    "    print(f\"原始消息 ({lang}): {issue}\\n\")\n",
    "\n",
    "    prompt = f\"\"\"\n",
    "    将以下消息分别翻译成英文和中文，并写成\n",
    "    中文翻译：xxx\n",
    "    英文翻译：yyy\n",
    "    的格式：\n",
    "    ```{issue}```\n",
    "    \"\"\"\n",
    "    response = get_completion(prompt)\n",
    "    print(response, \"\\n=========================================\")"
   ]
  },
  {
   "cell_type": "markdown",
   "id": "607cdcba",
   "metadata": {
    "pycharm": {
     "name": "#%% md\n"
    }
   },
   "source": []
  },
  {
   "attachments": {},
   "cell_type": "markdown",
   "id": "6ab558a2",
   "metadata": {
    "pycharm": {
     "name": "#%% md\n"
    }
   },
   "source": [
    "## 三、语气与写作风格调整"
   ]
  },
  {
   "attachments": {},
   "cell_type": "markdown",
   "id": "b85ae847",
   "metadata": {
    "pycharm": {
     "name": "#%% md\n"
    }
   },
   "source": [
    "写作的语气往往会根据受众对象而有所调整。例如，对于工作邮件，我们常常需要使用正式语气与书面用词，而对同龄朋友的微信聊天，可能更多地会使用轻松、口语化的语气。"
   ]
  },
  {
   "cell_type": "code",
   "execution_count": 19,
   "id": "d62ac977",
   "metadata": {
    "pycharm": {
     "name": "#%%\n"
    }
   },
   "outputs": [
    {
     "name": "stdout",
     "output_type": "stream",
     "text": [
      "Dear Sir/Madam,\n",
      "\n",
      "I hope this letter finds you well. My name is Joe, and I am writing to bring your attention to a specification document regarding a standing lamp. \n",
      "\n",
      "I kindly request that you take a moment to review the attached spec, as it contains important details about the standing lamp in question. \n",
      "\n",
      "Thank you for your time and consideration. I look forward to hearing from you soon.\n",
      "\n",
      "Sincerely,\n",
      "Joe\n"
     ]
    }
   ],
   "source": [
    "prompt = f\"\"\"\n",
    "Translate the following from slang to a business letter: \n",
    "'Dude, This is Joe, check out this spec on this standing lamp.'\n",
    "\"\"\"\n",
    "response = get_completion(prompt)\n",
    "print(response)\n"
   ]
  },
  {
   "cell_type": "code",
   "execution_count": 20,
   "id": "84ce3099",
   "metadata": {
    "pycharm": {
     "name": "#%%\n"
    }
   },
   "outputs": [
    {
     "name": "stdout",
     "output_type": "stream",
     "text": [
      "尊敬的先生/女士，\n",
      "\n",
      "我是小羊，我希望能够向您确认一下我们部门需要采购的显示器尺寸是多少寸。上次我们交谈时，您提到了这个问题。\n",
      "\n",
      "期待您的回复。\n",
      "\n",
      "谢谢！\n",
      "\n",
      "此致，\n",
      "\n",
      "小羊\n"
     ]
    }
   ],
   "source": [
    "prompt = f\"\"\"\n",
    "将以下文本翻译成商务信函的格式: \n",
    "```小老弟，我小羊，上回你说咱部门要采购的显示器是多少寸来着？```\n",
    "\"\"\"\n",
    "response = get_completion(prompt)\n",
    "print(response)"
   ]
  },
  {
   "cell_type": "markdown",
   "id": "79da6b29",
   "metadata": {
    "pycharm": {
     "name": "#%% md\n"
    }
   },
   "source": []
  },
  {
   "attachments": {},
   "cell_type": "markdown",
   "id": "98df9009",
   "metadata": {
    "pycharm": {
     "name": "#%% md\n"
    }
   },
   "source": [
    "## 四、文件格式转换"
   ]
  },
  {
   "attachments": {},
   "cell_type": "markdown",
   "id": "0bf9c074",
   "metadata": {
    "pycharm": {
     "name": "#%% md\n"
    }
   },
   "source": [
    "ChatGPT非常擅长不同格式之间的转换，例如JSON到HTML、XML、Markdown等。在下述例子中，我们有一个包含餐厅员工姓名和电子邮件的列表的JSON，我们希望将其从JSON转换为HTML。"
   ]
  },
  {
   "cell_type": "code",
   "execution_count": 17,
   "id": "fad3f358",
   "metadata": {
    "pycharm": {
     "name": "#%%\n"
    }
   },
   "outputs": [],
   "source": [
    "data_json = { \"resturant employees\" :[ \n",
    "    {\"name\":\"Shyam\", \"email\":\"shyamjaiswal@gmail.com\"},\n",
    "    {\"name\":\"Bob\", \"email\":\"bob32@gmail.com\"},\n",
    "    {\"name\":\"Jai\", \"email\":\"jai87@gmail.com\"}\n",
    "]}"
   ]
  },
  {
   "cell_type": "code",
   "execution_count": 18,
   "id": "7e904f70",
   "metadata": {
    "pycharm": {
     "name": "#%%\n"
    }
   },
   "outputs": [
    {
     "name": "stdout",
     "output_type": "stream",
     "text": [
      "To convert the given JSON Python dictionary into an HTML table with column headers and a title, you can create the following HTML code:\n",
      "\n",
      "```html\n",
      "<!DOCTYPE html>\n",
      "<html lang=\"en\">\n",
      "<head>\n",
      "    <meta charset=\"UTF-8\">\n",
      "    <meta name=\"viewport\" content=\"width=device-width, initial-scale=1.0\">\n",
      "    <title>Restaurant Employees</title>\n",
      "    <style>\n",
      "        table {\n",
      "            width: 50%;\n",
      "            border-collapse: collapse;\n",
      "            margin: 20px auto;\n",
      "        }\n",
      "        th, td {\n",
      "            border: 1px solid #ddd;\n",
      "            padding: 8px;\n",
      "            text-align: left;\n",
      "        }\n",
      "        th {\n",
      "            background-color: #f2f2f2;\n",
      "        }\n",
      "    </style>\n",
      "</head>\n",
      "<body>\n",
      "\n",
      "<h2 style=\"text-align: center;\">Restaurant Employees</h2>\n",
      "\n",
      "<table>\n",
      "    <tr>\n",
      "        <th>Name</th>\n",
      "        <th>Email</th>\n",
      "    </tr>\n",
      "    <tr>\n",
      "        <td>Shyam</td>\n",
      "        <td>shyamjaiswal@gmail.com</td>\n",
      "    </tr>\n",
      "    <tr>\n",
      "        <td>Bob</td>\n",
      "        <td>bob32@gmail.com</td>\n",
      "    </tr>\n",
      "    <tr>\n",
      "        <td>Jai</td>\n",
      "        <td>jai87@gmail.com</td>\n",
      "    </tr>\n",
      "</table>\n",
      "\n",
      "</body>\n",
      "</html>\n",
      "```\n",
      "\n",
      "### Explanation:\n",
      "1. **HTML Structure**: The document starts with the basic HTML structure, including the `head` and `body` sections.\n",
      "2. **Title**: The title of the HTML document is set to \"Restaurant Employees\".\n",
      "3. **CSS Styles**: Basic styles are included for the table for aesthetics, such as border styles and padding.\n",
      "4. **Table Creation**: A table is created with two main columns: \"Name\" and \"Email\".\n",
      "5. **Populating Data**: Each employee's name and email are added as rows in the table.\n",
      "\n",
      "You can copy and paste this code into an HTML file and open it in a web browser to see the result.\n"
     ]
    }
   ],
   "source": [
    "prompt = f\"\"\"\n",
    "Translate the following python dictionary from JSON to an HTML \\\n",
    "table with column headers and title: {data_json}\n",
    "\"\"\"\n",
    "response = get_completion(prompt)\n",
    "print(response)\n"
   ]
  },
  {
   "cell_type": "markdown",
   "id": "e1c7f30c",
   "metadata": {
    "pycharm": {
     "name": "#%% md\n"
    }
   },
   "source": [
    "结果同下"
   ]
  },
  {
   "cell_type": "code",
   "execution_count": 19,
   "id": "f54e7398",
   "metadata": {
    "pycharm": {
     "name": "#%%\n"
    }
   },
   "outputs": [
    {
     "name": "stdout",
     "output_type": "stream",
     "text": [
      "可以使用Python将给定的字典转换为HTML表格。以下是一个示例代码，展示如何将该字典转换为HTML格式的表格，并包含表格标题和列名。你可以在Python环境中使用这段代码。\n",
      "\n",
      "```python\n",
      "import json\n",
      "\n",
      "# 给定的字典\n",
      "data = {\n",
      "    'resturant employees': [\n",
      "        {'name': 'Shyam', 'email': 'shyamjaiswal@gmail.com'},\n",
      "        {'name': 'Bob', 'email': 'bob32@gmail.com'},\n",
      "        {'name': 'Jai', 'email': 'jai87@gmail.com'}\n",
      "    ]\n",
      "}\n",
      "\n",
      "# HTML表格构建\n",
      "html_table = '<html><head><title>Restaurant Employees</title></head><body>'\n",
      "html_table += '<h2>Restaurant Employees</h2>'\n",
      "html_table += '<table border=\"1\">'\n",
      "html_table += '<tr><th>Name</th><th>Email</th></tr>'\n",
      "\n",
      "# 填入数据\n",
      "for employee in data['resturant employees']:\n",
      "    html_table += f\"<tr><td>{employee['name']}</td><td>{employee['email']}</td></tr>\"\n",
      "\n",
      "html_table += '</table></body></html>'\n",
      "\n",
      "# 打印生成的HTML\n",
      "print(html_table)\n",
      "```\n",
      "\n",
      "运行这段代码后, 将生成如下HTML表格（以字符串形式表示）：\n",
      "\n",
      "```html\n",
      "<html>\n",
      "<head>\n",
      "    <title>Restaurant Employees</title>\n",
      "</head>\n",
      "<body>\n",
      "    <h2>Restaurant Employees</h2>\n",
      "    <table border=\"1\">\n",
      "        <tr><th>Name</th><th>Email</th></tr>\n",
      "        <tr><td>Shyam</td><td>shyamjaiswal@gmail.com</td></tr>\n",
      "        <tr><td>Bob</td><td>bob32@gmail.com</td></tr>\n",
      "        <tr><td>Jai</td><td>jai87@gmail.com</td></tr>\n",
      "    </table>\n",
      "</body>\n",
      "</html>\n",
      "```\n",
      "\n",
      "你可以将这个HTML保存到一个`.html`文件中，使用浏览器打开它来查看生成的表格效果。\n"
     ]
    }
   ],
   "source": [
    "prompt = f\"\"\"\n",
    "将以下Python字典从JSON转换为HTML表格，保留表格标题和列名：{data_json}\n",
    "\"\"\"\n",
    "response = get_completion(prompt)\n",
    "print(response)"
   ]
  },
  {
   "cell_type": "code",
   "execution_count": 20,
   "id": "a0026f3c",
   "metadata": {
    "pycharm": {
     "name": "#%%\n"
    }
   },
   "outputs": [
    {
     "data": {
      "text/html": [
       "可以使用Python将给定的字典转换为HTML表格。以下是一个示例代码，展示如何将该字典转换为HTML格式的表格，并包含表格标题和列名。你可以在Python环境中使用这段代码。\n",
       "\n",
       "```python\n",
       "import json\n",
       "\n",
       "# 给定的字典\n",
       "data = {\n",
       "    'resturant employees': [\n",
       "        {'name': 'Shyam', 'email': 'shyamjaiswal@gmail.com'},\n",
       "        {'name': 'Bob', 'email': 'bob32@gmail.com'},\n",
       "        {'name': 'Jai', 'email': 'jai87@gmail.com'}\n",
       "    ]\n",
       "}\n",
       "\n",
       "# HTML表格构建\n",
       "html_table = '<html><head><title>Restaurant Employees</title></head><body>'\n",
       "html_table += '<h2>Restaurant Employees</h2>'\n",
       "html_table += '<table border=\"1\">'\n",
       "html_table += '<tr><th>Name</th><th>Email</th></tr>'\n",
       "\n",
       "# 填入数据\n",
       "for employee in data['resturant employees']:\n",
       "    html_table += f\"<tr><td>{employee['name']}</td><td>{employee['email']}</td></tr>\"\n",
       "\n",
       "html_table += '</table></body></html>'\n",
       "\n",
       "# 打印生成的HTML\n",
       "print(html_table)\n",
       "```\n",
       "\n",
       "运行这段代码后, 将生成如下HTML表格（以字符串形式表示）：\n",
       "\n",
       "```html\n",
       "<html>\n",
       "<head>\n",
       "    <title>Restaurant Employees</title>\n",
       "</head>\n",
       "<body>\n",
       "    <h2>Restaurant Employees</h2>\n",
       "    <table border=\"1\">\n",
       "        <tr><th>Name</th><th>Email</th></tr>\n",
       "        <tr><td>Shyam</td><td>shyamjaiswal@gmail.com</td></tr>\n",
       "        <tr><td>Bob</td><td>bob32@gmail.com</td></tr>\n",
       "        <tr><td>Jai</td><td>jai87@gmail.com</td></tr>\n",
       "    </table>\n",
       "</body>\n",
       "</html>\n",
       "```\n",
       "\n",
       "你可以将这个HTML保存到一个`.html`文件中，使用浏览器打开它来查看生成的表格效果。"
      ],
      "text/plain": [
       "<IPython.core.display.HTML object>"
      ]
     },
     "metadata": {},
     "output_type": "display_data"
    }
   ],
   "source": [
    "from IPython.display import display, Markdown, Latex, HTML, JSON\n",
    "display(HTML(response))"
   ]
  },
  {
   "attachments": {},
   "cell_type": "markdown",
   "id": "29b7167b",
   "metadata": {
    "pycharm": {
     "name": "#%% md\n"
    }
   },
   "source": [
    "## 五、拼写及语法纠正"
   ]
  },
  {
   "attachments": {},
   "cell_type": "markdown",
   "id": "22776140",
   "metadata": {
    "pycharm": {
     "name": "#%% md\n"
    }
   },
   "source": [
    "拼写及语法的检查与纠正是一个十分常见的需求，特别是使用非母语语言，例如，在论坛发帖时，或发表英文论文时，校对是一件十分重要的事情。\n",
    "\n",
    "下述例子给定了一个句子列表，其中有些句子存在拼写或语法问题，有些则没有，我们循环遍历每个句子，要求模型校对文本，如果正确则输出“未发现错误”，如果错误则输出纠正后的文本。"
   ]
  },
  {
   "cell_type": "code",
   "execution_count": 22,
   "id": "b7d04bc0",
   "metadata": {
    "pycharm": {
     "name": "#%%\n"
    }
   },
   "outputs": [],
   "source": [
    "text = [ \n",
    "  \"The girl with the black and white puppies have a ball.\",  # The girl has a ball.\n",
    "  \"Yolanda has her notebook.\", # ok\n",
    "  \"Its going to be a long day. Does the car need it’s oil changed?\",  # Homonyms\n",
    "  \"Their goes my freedom. There going to bring they’re suitcases.\",  # Homonyms\n",
    "  \"Your going to need you’re notebook.\",  # Homonyms\n",
    "  \"That medicine effects my ability to sleep. Have you heard of the butterfly affect?\", # Homonyms\n",
    "  \"This phrase is to cherck chatGPT for spelling abilitty\"  # spelling\n",
    "]"
   ]
  },
  {
   "cell_type": "code",
   "execution_count": 21,
   "id": "d48f8d3f",
   "metadata": {
    "pycharm": {
     "name": "#%%\n"
    }
   },
   "outputs": [
    {
     "ename": "NameError",
     "evalue": "name 'text' is not defined",
     "output_type": "error",
     "traceback": [
      "\u001b[0;31m---------------------------------------------------------------------------\u001b[0m",
      "\u001b[0;31mNameError\u001b[0m                                 Traceback (most recent call last)",
      "Cell \u001b[0;32mIn[21], line 1\u001b[0m\n\u001b[0;32m----> 1\u001b[0m \u001b[38;5;28;01mfor\u001b[39;00m t \u001b[38;5;129;01min\u001b[39;00m \u001b[43mtext\u001b[49m:\n\u001b[1;32m      2\u001b[0m     prompt \u001b[38;5;241m=\u001b[39m \u001b[38;5;124mf\u001b[39m\u001b[38;5;124m\"\"\"\u001b[39m\u001b[38;5;124mProofread and correct the following text\u001b[39m\n\u001b[1;32m      3\u001b[0m \u001b[38;5;124m    and rewrite the corrected version. If you don\u001b[39m\u001b[38;5;124m'\u001b[39m\u001b[38;5;124mt find\u001b[39m\n\u001b[1;32m      4\u001b[0m \u001b[38;5;124m    and errors, just say \u001b[39m\u001b[38;5;124m\"\u001b[39m\u001b[38;5;124mNo errors found\u001b[39m\u001b[38;5;124m\"\u001b[39m\u001b[38;5;124m. Don\u001b[39m\u001b[38;5;124m'\u001b[39m\u001b[38;5;124mt use \u001b[39m\n\u001b[1;32m      5\u001b[0m \u001b[38;5;124m    any punctuation around the text:\u001b[39m\n\u001b[1;32m      6\u001b[0m \u001b[38;5;124m    ```\u001b[39m\u001b[38;5;132;01m{\u001b[39;00mt\u001b[38;5;132;01m}\u001b[39;00m\u001b[38;5;124m```\u001b[39m\u001b[38;5;124m\"\"\"\u001b[39m\n\u001b[1;32m      7\u001b[0m     response \u001b[38;5;241m=\u001b[39m get_completion(prompt)\n",
      "\u001b[0;31mNameError\u001b[0m: name 'text' is not defined"
     ]
    }
   ],
   "source": [
    "for t in text:\n",
    "    prompt = f\"\"\"Proofread and correct the following text\n",
    "    and rewrite the corrected version. If you don't find\n",
    "    and errors, just say \"No errors found\". Don't use \n",
    "    any punctuation around the text:\n",
    "    ```{t}```\"\"\"\n",
    "    response = get_completion(prompt)\n",
    "    print(response)\n"
   ]
  },
  {
   "cell_type": "code",
   "execution_count": 25,
   "id": "1ef55b7b",
   "metadata": {
    "pycharm": {
     "name": "#%%\n"
    }
   },
   "outputs": [
    {
     "name": "stdout",
     "output_type": "stream",
     "text": [
      "0 The girl with the black and white puppies has a ball.\n",
      "1 Yolanda has her notebook.\n",
      "2 It's going to be a long day. Does the car need its oil changed?\n",
      "3 Their goes my freedom. There going to bring their suitcases.\n",
      "4 You're going to need your notebook.\n",
      "5 That medicine affects my ability to sleep. Have you heard of the butterfly effect?\n",
      "6 This phrase is to check chatGPT for spelling ability.\n"
     ]
    }
   ],
   "source": [
    "for i in range(len(text)):\n",
    "    time.sleep(20)\n",
    "    prompt = f\"\"\"请校对并更正以下文本，注意纠正文本保持原始语种，无需输出原始文本。\n",
    "    如果您没有发现任何错误，请说“未发现错误”。\n",
    "    \n",
    "    例如：\n",
    "    输入：I are happy.\n",
    "    输出：I am happy.\n",
    "    ```{text[i]}```\"\"\"\n",
    "    response = get_completion(prompt)\n",
    "    print(i, response)"
   ]
  },
  {
   "cell_type": "markdown",
   "id": "ef7e1dae",
   "metadata": {
    "pycharm": {
     "name": "#%% md\n"
    }
   },
   "source": []
  },
  {
   "attachments": {},
   "cell_type": "markdown",
   "id": "538181e0",
   "metadata": {
    "pycharm": {
     "name": "#%% md\n"
    }
   },
   "source": [
    "以下是一个简单的语法纠错示例（译注：与 Grammarly 功能类似），输入文本为一段关于熊猫玩偶的评价，输出为纠正后的文本。本例使用的 Prompt 较为简单，你也可以进一步要求进行语调的更改。"
   ]
  },
  {
   "cell_type": "code",
   "execution_count": 30,
   "id": "6696b06a",
   "metadata": {
    "pycharm": {
     "name": "#%%\n"
    }
   },
   "outputs": [],
   "source": [
    "text = f\"\"\"\n",
    "Got this for my daughter for her birthday cuz she keeps taking \\\n",
    "mine from my room.  Yes, adults also like pandas too.  She takes \\\n",
    "it everywhere with her, and it's super soft and cute.  One of the \\\n",
    "ears is a bit lower than the other, and I don't think that was \\\n",
    "designed to be asymmetrical. It's a bit small for what I paid for it \\\n",
    "though. I think there might be other options that are bigger for \\\n",
    "the same price.  It arrived a day earlier than expected, so I got \\\n",
    "to play with it myself before I gave it to my daughter.\n",
    "\"\"\""
   ]
  },
  {
   "cell_type": "code",
   "execution_count": 33,
   "id": "8f3b2341",
   "metadata": {
    "pycharm": {
     "name": "#%%\n"
    }
   },
   "outputs": [
    {
     "name": "stdout",
     "output_type": "stream",
     "text": [
      "Here’s a revised version of your review:\n",
      "\n",
      "---\n",
      "\n",
      "I got this for my daughter for her birthday because she keeps taking mine from my room. Yes, adults can also appreciate pandas! She takes it everywhere with her, and it's super soft and cute. However, one of the ears is a bit lower than the other, and I don't think that was designed to be asymmetrical. Additionally, it feels a bit small for what I paid for it; I think there might be larger options available for the same price. On a positive note, it arrived a day earlier than expected, so I got to play with it before giving it to my daughter. \n",
      "\n",
      "--- \n",
      "\n",
      "Feel free to modify it further if you'd like!\n"
     ]
    }
   ],
   "source": [
    "prompt = f\"proofread and correct this review: ```{text}```\"\n",
    "response = get_completion(prompt)\n",
    "print(response)\n"
   ]
  },
  {
   "cell_type": "markdown",
   "id": "63871b58",
   "metadata": {
    "pycharm": {
     "name": "#%% md\n"
    }
   },
   "source": [
    "结果同下"
   ]
  },
  {
   "cell_type": "code",
   "execution_count": 27,
   "id": "50cca36e",
   "metadata": {
    "pycharm": {
     "name": "#%%\n"
    }
   },
   "outputs": [
    {
     "name": "stdout",
     "output_type": "stream",
     "text": [
      "以下是校对并更正后的商品评论：\n",
      "\n",
      "“我为女儿的生日买了这个，因为她总是从我的房间里拿我的玩具。没错，成年人也喜欢熊猫。她随身带着这个玩具，而且它非常柔软可爱。只是一个耳朵比另一个低，我觉得这不是设计上的故意不对称。不过，考虑到我为它付的钱，感觉还是有点小。我认为可能有其他同价位的更大尺寸的选择。它比预期早到了一天，所以我在把它送给女儿之前自己玩了一下。”\n"
     ]
    }
   ],
   "source": [
    "prompt = f\"校对并更正以下商品评论：```{text}```\"\n",
    "response = get_completion(prompt)\n",
    "print(response)"
   ]
  },
  {
   "attachments": {},
   "cell_type": "markdown",
   "id": "2e2d1f6a",
   "metadata": {
    "pycharm": {
     "name": "#%% md\n"
    }
   },
   "source": [
    "引入 ```Redlines``` 包，详细显示并对比纠错过程："
   ]
  },
  {
   "cell_type": "code",
   "execution_count": 28,
   "id": "07f32f1f",
   "metadata": {
    "pycharm": {
     "name": "#%%\n"
    }
   },
   "outputs": [],
   "source": [
    "# 如未安装redlines，需先安装\n",
    "# !pip install redlines"
   ]
  },
  {
   "cell_type": "code",
   "execution_count": 34,
   "id": "e8604dfb",
   "metadata": {
    "pycharm": {
     "name": "#%%\n"
    }
   },
   "outputs": [
    {
     "data": {
      "text/markdown": [
       "<span style='color:red;font-weight:700;text-decoration:line-through;'>Got </span><span style='color:green;font-weight:700;'>Here’s a revised version of your review: </span>\n",
       "\n",
       "<span style='color:green;font-weight:700;'>--- </span>\n",
       "\n",
       "<span style='color:green;font-weight:700;'>I got </span>this for my daughter for her birthday <span style='color:red;font-weight:700;text-decoration:line-through;'>cuz </span><span style='color:green;font-weight:700;'>because </span>she keeps taking mine from my <span style='color:red;font-weight:700;text-decoration:line-through;'>room.  </span><span style='color:green;font-weight:700;'>room. </span>Yes, adults <span style='color:green;font-weight:700;'>can </span>also <span style='color:red;font-weight:700;text-decoration:line-through;'>like pandas too.  </span><span style='color:green;font-weight:700;'>appreciate pandas! </span>She takes it everywhere with her, and it's super soft and <span style='color:red;font-weight:700;text-decoration:line-through;'>cute.  One </span><span style='color:green;font-weight:700;'>cute. However, one </span>of the ears is a bit lower than the other, and I don't think that was designed to be asymmetrical. <span style='color:red;font-weight:700;text-decoration:line-through;'>It's </span><span style='color:green;font-weight:700;'>Additionally, it feels </span>a bit small for what I paid for <span style='color:red;font-weight:700;text-decoration:line-through;'>it though. </span><span style='color:green;font-weight:700;'>it; </span>I think there might be <span style='color:red;font-weight:700;text-decoration:line-through;'>other </span><span style='color:green;font-weight:700;'>larger </span>options <span style='color:red;font-weight:700;text-decoration:line-through;'>that are bigger </span><span style='color:green;font-weight:700;'>available </span>for the same <span style='color:red;font-weight:700;text-decoration:line-through;'>price.  It </span><span style='color:green;font-weight:700;'>price. On a positive note, it </span>arrived a day earlier than expected, so I got to play with it <span style='color:red;font-weight:700;text-decoration:line-through;'>myself </span>before <span style='color:red;font-weight:700;text-decoration:line-through;'>I gave </span><span style='color:green;font-weight:700;'>giving </span>it to my <span style='color:red;font-weight:700;text-decoration:line-through;'>daughter.</span><span style='color:green;font-weight:700;'>daughter. </span>\n",
       "\n",
       "<span style='color:green;font-weight:700;'>--- </span>\n",
       "\n",
       "<span style='color:green;font-weight:700;'>Feel free to modify it further if you'd like!</span>"
      ],
      "text/plain": [
       "<IPython.core.display.Markdown object>"
      ]
     },
     "metadata": {},
     "output_type": "display_data"
    }
   ],
   "source": [
    "from redlines import Redlines\n",
    "from IPython.display import display, Markdown\n",
    "\n",
    "diff = Redlines(text,response)\n",
    "display(Markdown(diff.output_markdown))"
   ]
  },
  {
   "attachments": {},
   "cell_type": "markdown",
   "id": "3ee5d487",
   "metadata": {
    "pycharm": {
     "name": "#%% md\n"
    }
   },
   "source": [
    "## 六、综合样例\n",
    "下述例子展示了同一段评论，用一段prompt同时进行文本翻译+拼写纠正+风格调整+格式转换。"
   ]
  },
  {
   "cell_type": "code",
   "execution_count": 35,
   "id": "584dcc21",
   "metadata": {
    "pycharm": {
     "name": "#%%\n"
    }
   },
   "outputs": [],
   "source": [
    "text = f\"\"\"\n",
    "Got this for my daughter for her birthday cuz she keeps taking \\\n",
    "mine from my room.  Yes, adults also like pandas too.  She takes \\\n",
    "it everywhere with her, and it's super soft and cute.  One of the \\\n",
    "ears is a bit lower than the other, and I don't think that was \\\n",
    "designed to be asymmetrical. It's a bit small for what I paid for it \\\n",
    "though. I think there might be other options that are bigger for \\\n",
    "the same price.  It arrived a day earlier than expected, so I got \\\n",
    "to play with it myself before I gave it to my daughter.\n",
    "\"\"\""
   ]
  },
  {
   "cell_type": "code",
   "execution_count": 36,
   "id": "83235c7b",
   "metadata": {
    "pycharm": {
     "name": "#%%\n"
    }
   },
   "outputs": [
    {
     "data": {
      "text/markdown": [
       "```markdown\n",
       "### Review of the Panda Plush Toy\n",
       "\n",
       "I purchased this enchanting panda plush toy for my daughter’s birthday, as she has a tendency to \"borrow\" mine from my room. It is a common misconception that adults cannot appreciate the charm of pandas; however, I find them just as delightful. Since its arrival, my daughter has taken this cuddly companion everywhere with her. The toy is exceptionally soft and adorable, capturing the essence of a beloved childhood friend.\n",
       "\n",
       "Upon closer inspection, I noticed that one of the ears appears to be slightly lower than the other. While I assume this was not an intentional design choice, it adds a unique character to the plush toy. However, the size of the panda seems a bit inadequate for the price paid. I have observed larger alternatives available on the market that are offered at a similar price point, which may be worth considering for those who prioritize size.\n",
       "\n",
       "On a positive note, the delivery was impressively prompt, arriving a day earlier than expected. This gave me a brief opportunity to enjoy the plush toy myself before presenting it to my daughter.\n",
       "\n",
       "Overall, while there are some minor flaws, the joy it brings to my daughter makes it a worthwhile purchase. I would recommend evaluating various options to find the perfect balance of size and quality.\n",
       "```"
      ],
      "text/plain": [
       "<IPython.core.display.Markdown object>"
      ]
     },
     "metadata": {},
     "output_type": "display_data"
    }
   ],
   "source": [
    "prompt = f\"\"\"\n",
    "proofread and correct this review. Make it more compelling. \n",
    "Ensure it follows APA style guide and targets an advanced reader. \n",
    "Output in markdown format.\n",
    "Text: ```{text}```\n",
    "\"\"\"\n",
    "# 校对注：APA style guide是APA Style Guide是一套用于心理学和相关领域的研究论文写作和格式化的规则。\n",
    "# 它包括了文本的缩略版，旨在快速阅读，包括引用、解释和参考列表，\n",
    "# 其详细内容可参考：https://apastyle.apa.org/about-apa-style\n",
    "# 下一单元格内的汉化prompt内容由译者进行了本地化处理，仅供参考\n",
    "response = get_completion(prompt)\n",
    "display(Markdown(response))\n"
   ]
  },
  {
   "attachments": {},
   "cell_type": "markdown",
   "id": "4bd30c51",
   "metadata": {
    "pycharm": {
     "name": "#%% md\n"
    }
   },
   "source": [
    "\n",
    "**Review of Panda Plush Toy**\n",
    "\n",
    "**Introduction**\n",
    "\n",
    "I bought this panda plush toy as a birthday gift for my daughter, who loves pandas as much as I do. This toy is very soft and adorable, and my daughter enjoys carrying it around with her everywhere. However, I also noticed some flaws in the toy’s design and size that made me question its value for money.\n",
    "\n",
    "**Appearance and Quality**\n",
    "\n",
    "The toy has a realistic black and white fur pattern and a cute expression on its face. It is made of high-quality material that feels smooth and gentle to the touch. One of the ears is slightly lower than the other, which may be a manufacturing defect or an intentional asymmetry to make it look more natural. The toy is also quite small, measuring about 12 inches in height. I expected it to be bigger for the price I paid, as I have seen other plush toys that are larger and cheaper.\n",
    "\n",
    "**Delivery and Service**\n",
    "\n",
    "The toy arrived a day earlier than the estimated delivery date, which was a pleasant surprise. It was well-packaged and in good condition when I received it. The seller also included a thank-you note and a coupon for my next purchase, which I appreciated.\n",
    "\n",
    "**Conclusion**\n",
    "\n",
    "Overall, this panda plush toy is a lovely and cuddly gift for any panda lover, especially children. It has a high-quality feel and a charming appearance, but it also has some minor flaws in its design and size that may affect its value. I would recommend this toy to anyone who is looking for a small and cute panda plush, but not to those who want a large and realistic one."
   ]
  },
  {
   "cell_type": "code",
   "execution_count": 37,
   "id": "5061d6a3",
   "metadata": {
    "pycharm": {
     "name": "#%%\n"
    },
    "scrolled": true
   },
   "outputs": [
    {
     "data": {
      "text/markdown": [
       "```markdown\n",
       "【优点】这款熊猫玩具真的是超级软萌，非常适合小女孩们！我女儿特别喜欢，每天都带着它到处玩，软绵绵的触感让人忍不住想抱着不放。包装也很不错，送货速度很快，提前了一天到达，这让我有时间自己玩一下，真是个惊喜！\n",
       "\n",
       "【缺点】不过，这款玩具的耳朵有一只稍微低了一点，看起来有些不对称，可能并不是设计上的巧思。而且，考虑到价格，它的尺寸也有点小，可能不如其他同类产品那么划算，应该还有其他选择可以考虑。\n",
       "\n",
       "【总结】总体来说，这款熊猫玩具凭借可爱的外形和柔软的触感赢得了我女儿的心，虽然在设计和大小上有些小瑕疵，但依然是个不错的选择。如果你在寻找可爱的礼物，提前考虑尺寸和设计细节会更好哦！绝对会给孩子们带来快乐，让她们爱不释手！\n",
       "```"
      ],
      "text/plain": [
       "<IPython.core.display.Markdown object>"
      ]
     },
     "metadata": {},
     "output_type": "display_data"
    }
   ],
   "source": [
    "prompt = f\"\"\"\n",
    "针对以下三个反引号之间的英文评论文本，\n",
    "首先进行拼写及语法纠错，\n",
    "然后将其转化成中文，\n",
    "再将其转化成优质淘宝评论的风格，从各种角度出发，分别说明产品的优点与缺点，并进行总结。\n",
    "润色一下描述，使评论更具有吸引力。\n",
    "输出结果格式为：\n",
    "【优点】xxx\n",
    "【缺点】xxx\n",
    "【总结】xxx\n",
    "注意，只需填写xxx部分，并分段输出。\n",
    "将结果输出成Markdown格式。\n",
    "```{text}```\n",
    "\"\"\"\n",
    "response = get_completion(prompt)\n",
    "display(Markdown(response))"
   ]
  }
 ],
 "metadata": {
  "kernelspec": {
   "display_name": "Python 3",
   "language": "python",
   "name": "python3"
  },
  "language_info": {
   "codemirror_mode": {
    "name": "ipython",
    "version": 3
   },
   "file_extension": ".py",
   "mimetype": "text/x-python",
   "name": "python",
   "nbconvert_exporter": "python",
   "pygments_lexer": "ipython3",
   "version": "3.9.20"
  },
  "latex_envs": {
   "LaTeX_envs_menu_present": true,
   "autoclose": false,
   "autocomplete": true,
   "bibliofile": "biblio.bib",
   "cite_by": "apalike",
   "current_citInitial": 1,
   "eqLabelWithNumbers": true,
   "eqNumInitial": 1,
   "hotkeys": {
    "equation": "Ctrl-E",
    "itemize": "Ctrl-I"
   },
   "labels_anchors": false,
   "latex_user_defs": false,
   "report_style_numbering": false,
   "user_envs_cfg": false
  },
  "toc": {
   "base_numbering": 1,
   "nav_menu": {},
   "number_sections": true,
   "sideBar": true,
   "skip_h1_title": false,
   "title_cell": "Table of Contents",
   "title_sidebar": "Contents",
   "toc_cell": false,
   "toc_position": {},
   "toc_section_display": true,
   "toc_window_display": true
  }
 },
 "nbformat": 4,
 "nbformat_minor": 5
}
