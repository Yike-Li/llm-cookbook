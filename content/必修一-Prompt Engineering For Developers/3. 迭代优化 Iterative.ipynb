{
 "cells": [
  {
   "attachments": {},
   "cell_type": "markdown",
   "metadata": {},
   "source": [
    "# 第三章 迭代优化\n",
    "\n",
    "当使用 LLM 构建应用程序时，实践层面上很难*第一次尝试*就成功获得适合最终应用的 Prompt。但这并不重要，只要您有一个好的迭代过程来不断改进您的 Prompt，那么您就能够得到一个适合任务的 Prompt。虽然相比训练机器学习模型，在  Prompt 方面一次成功的几率可能会高一些，但正如上所说， Prompt 是否一次完善并不重要。最重要的是**层层迭代**为您的应用程序找到有效  Prompt 的过程。\n",
    "\n",
    "因此在本章中，我们将以产品说明书中生成营销文案为例，来展示一些流程框架，并提示您思考如何层层迭代地分析和完善您的 Prompt。\n",
    "\n",
    "在吴恩达（Andrew Ng，原教程作者）的机器学习课程中展示过一张图表，说明了机器学习开发的流程。通常是先有一个想法，然后再用以下流程实现：编写代码，获取数据，训练模型，获得实验结果。然后您可以查看结果，分析误差与错误，找出适用领域，甚至可以更改您对具体问题的具体思路或解决方法。此后再次更改实现，并运行另一个实验等，反复迭代，最终获得有效的机器学习模型。在编写基于 LLM 的应用程序的 Prompt 时，流程可能非常相似。您产生了关于要完成的任务的想法后，可以尝试编写第一个 Prompt ，注意要满足上一章说过的两个原则：**清晰明确，并且给系统足够的时间思考**。然后您可以运行并查看结果。如果第一次效果不好，那么迭代的过程就是找出为什么指令不够清晰或为什么没有给算法足够的时间思考，以便改进想法、改进  Prompt 等等，循环多次，直到找到适合您的应用程序的 Prompt。\n",
    "\n",
    "很难有适用于世间万物的所谓“最佳  Prompt ”，更好的方法是找到有效的迭代过程，以便您可以快速地找到一个适合您的应用程序的  Prompt 。\n"
   ]
  },
  {
   "cell_type": "markdown",
   "metadata": {},
   "source": [
    "<div class=\"toc\">\n",
    "    <ul class=\"toc-item\">\n",
    "        <li><span><a href=\"#一环境配置\" data-toc-modified-id=\"一、环境配置\">一、环境配置</a></span></li>\n",
    "        <li>\n",
    "            <span><a href=\"#二任务从产品说明书生成一份营销产品描述\" data-toc-modified-id=\"二、任务——从产品说明书生成一份营销产品描述\">二、任务——从产品说明书生成一份营销产品描述</a></span>\n",
    "            <ul class=\"toc-item\">\n",
    "                <li><span><a href=\"#21-问题一生成文本太长\" data-toc-modified-id=\"2.1 问题一：生成文本太长\">2.1 问题一：生成文本太长</a></span></li>\n",
    "                <li><span><a href=\"#22-问题二抓错文本细节\" data-toc-modified-id=\"2.2 问题二：抓错文本细节\">2.2 问题二：抓错文本细节</a></span></li>\n",
    "                <li><span><a href=\"#23-问题三添加表格描述\" data-toc-modified-id=\"2.3 问题三：添加表格描述\">2.3 问题三：添加表格描述</a></span></li>\n",
    "            </ul>\n",
    "        </li>\n",
    "    </ul>\n",
    "</div>"
   ]
  },
  {
   "attachments": {},
   "cell_type": "markdown",
   "metadata": {},
   "source": [
    "## 一、环境配置\n",
    "\n",
    "同上一章，我们首先需要配置使用 OpenAI API 的环境"
   ]
  },
  {
   "cell_type": "code",
   "execution_count": 3,
   "metadata": {},
   "outputs": [
    {
     "name": "stdout",
     "output_type": "stream",
     "text": [
      "\u001b[97;1m\u001b[0mRefreshing app credentials\u001b[0m\u001b[0;22m\n",
      "\u001b[97;1m\u001b[0mUser credentials have expired, will attempt to refresh\u001b[0m\u001b[0;22m\n",
      "\u001b[97;1m\u001b[0mRefreshing application \"vault\" for 1h0m0s\u001b[0m\u001b[0;22m\n",
      "\u001b[97;1m\u001b[0mRefreshing application \"cruise-rbe-prd\" for 1h0m0s\u001b[0m\u001b[0;22m\n",
      "\u001b[97;1m\u001b[0mRefreshing application \"vehicle-comms\" for 1h0m0s\u001b[0m\u001b[0;22m\n",
      "\u001b[97;1m\u001b[0mRefreshing gcp credentials\u001b[0m\u001b[0;22m\n",
      "\u001b[97;1m\u001b[0mRefreshing vault credentials\u001b[0m\u001b[0;22m\n",
      "\u001b[97;1m\u001b[0mauthenticating via Cruise-native Vault token to https://vault.robot.car:8200\u001b[0m\u001b[0;22m\n",
      "\u001b[97;1m\u001b[0mwrote vault credentials (default) to /home/yike.li/.vault-token\u001b[0m\u001b[0;22m\n"
     ]
    }
   ],
   "source": [
    "!authcli refresh"
   ]
  },
  {
   "cell_type": "code",
   "execution_count": 20,
   "metadata": {},
   "outputs": [],
   "source": [
    "import sys\n",
    "import os\n",
    "\n",
    "current_dir = os.getcwd()\n",
    "target_dir = os.path.abspath(os.path.join(current_dir, '..', '..'))\n",
    "sys.path.append(target_dir)\n",
    "\n",
    "from utils import get_completion\n"
   ]
  },
  {
   "attachments": {},
   "cell_type": "markdown",
   "metadata": {},
   "source": [
    "## 二、任务——从产品说明书生成一份营销产品描述"
   ]
  },
  {
   "attachments": {},
   "cell_type": "markdown",
   "metadata": {},
   "source": [
    "给定一份椅子的资料页。描述说它属于*中世纪灵感*系列，产自意大利，并介绍了材料、构造、尺寸、可选配件等参数。假设您想要使用这份说明书帮助营销团队为电商平台撰写营销描述稿："
   ]
  },
  {
   "cell_type": "code",
   "execution_count": 5,
   "metadata": {},
   "outputs": [],
   "source": [
    "# 示例：产品说明书\n",
    "fact_sheet_chair = \"\"\"\n",
    "OVERVIEW\n",
    "- Part of a beautiful family of mid-century inspired office furniture, \n",
    "including filing cabinets, desks, bookcases, meeting tables, and more.\n",
    "- Several options of shell color and base finishes.\n",
    "- Available with plastic back and front upholstery (SWC-100) \n",
    "or full upholstery (SWC-110) in 10 fabric and 6 leather options.\n",
    "- Base finish options are: stainless steel, matte black, \n",
    "gloss white, or chrome.\n",
    "- Chair is available with or without armrests.\n",
    "- Suitable for home or business settings.\n",
    "- Qualified for contract use.\n",
    "\n",
    "CONSTRUCTION\n",
    "- 5-wheel plastic coated aluminum base.\n",
    "- Pneumatic chair adjust for easy raise/lower action.\n",
    "\n",
    "DIMENSIONS\n",
    "- WIDTH 53 CM | 20.87”\n",
    "- DEPTH 51 CM | 20.08”\n",
    "- HEIGHT 80 CM | 31.50”\n",
    "- SEAT HEIGHT 44 CM | 17.32”\n",
    "- SEAT DEPTH 41 CM | 16.14”\n",
    "\n",
    "OPTIONS\n",
    "- Soft or hard-floor caster options.\n",
    "- Two choices of seat foam densities: \n",
    "medium (1.8 lb/ft3) or high (2.8 lb/ft3)\n",
    "- Armless or 8 position PU armrests \n",
    "\n",
    "MATERIALS\n",
    "SHELL BASE GLIDER\n",
    "- Cast Aluminum with modified nylon PA6/PA66 coating.\n",
    "- Shell thickness: 10 mm.\n",
    "SEAT\n",
    "- HD36 foam\n",
    "\n",
    "COUNTRY OF ORIGIN\n",
    "- Italy\n",
    "\"\"\""
   ]
  },
  {
   "cell_type": "code",
   "execution_count": 3,
   "metadata": {},
   "outputs": [
    {
     "name": "stdout",
     "output_type": "stream",
     "text": [
      "**Product Description: Mid-Century Inspired Office Chair**\n",
      "\n",
      "Elevate your workspace with our exquisite mid-century inspired office chair, a stunning addition to any home or business setting. Designed as part of a harmonious collection that includes desks, filing cabinets, bookcases, and meeting tables, this chair seamlessly combines style with functionality.\n",
      "\n",
      "Customize your chair with a variety of shell colors and base finishes to match your aesthetic. Choose from a range of upholstery options: the sleek plastic back and front (SWC-100) for a contemporary feel or opt for the plush full upholstery (SWC-110) available in ten vibrant fabrics and six luxurious leathers, ensuring comfort that meets your needs.\n",
      "\n",
      "Built on a sturdy 5-wheel, plastic coated aluminum base, this chair features a smooth pneumatic adjustment mechanism for easy height modification. With dimensions of 53 cm in width, 51 cm in depth, and a height of 80 cm, it provides ample support with a seat height of 44 cm. Whether you prefer the freedom of movement without armrests or the comfort of 8-position PU armrests, this chair caters to your preferences.\n",
      "\n",
      "Designed to be versatile, it’s perfect for both hard and soft floors, thanks to optional caster choices. With foam density options of medium or high, you can select the level of comfort that suits you best. Crafted in Italy, the chair embodies quality with its 10 mm thick shell and durable materials, including HD36 foam for the seat.\n",
      "\n",
      "This chair is not only stylish but also qualified for contract use, making it a reliable choice for any professional environment. Transform your space with a piece that marries classic design with modern functionality—your new favorite chair awaits!\n"
     ]
    }
   ],
   "source": [
    "#   Prompt ：基于说明书生成营销描述\n",
    "prompt = f\"\"\"\n",
    "Your task is to help a marketing team create a \n",
    "description for a retail website of a product based \n",
    "on a technical fact sheet.\n",
    "\n",
    "Write a product description based on the information \n",
    "provided in the technical specifications delimited by \n",
    "triple backticks.\n",
    "\n",
    "Technical specifications: ```{fact_sheet_chair}```\n",
    "\"\"\"\n",
    "response = get_completion(prompt)\n",
    "print(response)\n"
   ]
  },
  {
   "cell_type": "code",
   "execution_count": 4,
   "metadata": {},
   "outputs": [],
   "source": [
    "# 示例：产品说明书\n",
    "fact_sheet_chair = \"\"\"\n",
    "概述\n",
    "\n",
    "    美丽的中世纪风格办公家具系列的一部分，包括文件柜、办公桌、书柜、会议桌等。\n",
    "    多种外壳颜色和底座涂层可选。\n",
    "    可选塑料前后靠背装饰（SWC-100）或10种面料和6种皮革的全面装饰（SWC-110）。\n",
    "    底座涂层选项为：不锈钢、哑光黑色、光泽白色或铬。\n",
    "    椅子可带或不带扶手。\n",
    "    适用于家庭或商业场所。\n",
    "    符合合同使用资格。\n",
    "\n",
    "结构\n",
    "\n",
    "    五个轮子的塑料涂层铝底座。\n",
    "    气动椅子调节，方便升降。\n",
    "\n",
    "尺寸\n",
    "\n",
    "    宽度53厘米|20.87英寸\n",
    "    深度51厘米|20.08英寸\n",
    "    高度80厘米|31.50英寸\n",
    "    座椅高度44厘米|17.32英寸\n",
    "    座椅深度41厘米|16.14英寸\n",
    "\n",
    "选项\n",
    "\n",
    "    软地板或硬地板滚轮选项。\n",
    "    两种座椅泡沫密度可选：中等（1.8磅/立方英尺）或高（2.8磅/立方英尺）。\n",
    "    无扶手或8个位置PU扶手。\n",
    "\n",
    "材料\n",
    "外壳底座滑动件\n",
    "\n",
    "    改性尼龙PA6/PA66涂层的铸铝。\n",
    "    外壳厚度：10毫米。\n",
    "    座椅\n",
    "    HD36泡沫\n",
    "\n",
    "原产国\n",
    "\n",
    "    意大利\n",
    "\"\"\""
   ]
  },
  {
   "cell_type": "code",
   "execution_count": 5,
   "metadata": {},
   "outputs": [
    {
     "name": "stdout",
     "output_type": "stream",
     "text": [
      "### 产品描述\n",
      "\n",
      "探索我们的中世纪风格办公家具系列，为您的办公环境增添一丝优雅与文化气息。该系列包括文件柜、办公桌、书柜和会议桌，致力于提升您的工作效率与空间美感。\n",
      "\n",
      "我们的办公椅为您提供多种外壳颜色和底座涂层选择，确保与您的室内设计完美融合。您可以选择采用时尚的塑料前后靠背装饰（SWC-100），或十大面料与六种皮革的奢华全面装饰（SWC-110），尽显个性与品位。\n",
      "\n",
      "作为办公椅的底座，您可以选择不锈钢、哑光黑色、光泽白色或铬的涂层，既耐用又美观。椅子的设计兼顾舒适与功能，既可选配扶手，也可选择无扶手版本，满足不同使用者的需求。\n",
      "\n",
      "结构上，我们采用五个轮子的塑料涂层铝底座和便捷的气动调节系统，确保体验舒适，办公自如。椅子尺寸合理，适合各种体型，座椅高度和深度经过精心设计，确保长时间坐着也不会感到疲劳。\n",
      "\n",
      "无论是家庭办公还是商业场所，我们的产品都符合合同使用资格，是理想的选择。优质的材料保证了使用的耐久性，改性尼龙和铸铝构成的外壳，为您提供坚固与稳定的支持。同时，意大利制造的精湛工艺，则为每一件产品注入了独特的艺术气息。\n",
      "\n",
      "选择我们的中世纪风格办公家具系列，让您的办公环境焕然一新，展现出优雅与专业并存的魅力。\n"
     ]
    }
   ],
   "source": [
    "#   Prompt ：基于说明书创建营销描述\n",
    "prompt = f\"\"\"\n",
    "您的任务是帮助营销团队基于技术说明书创建一个产品的营销描述。\n",
    "\n",
    "根据```标记的技术说明书中提供的信息，编写一个产品描述。\n",
    "\n",
    "技术说明: ```{fact_sheet_chair}```\n",
    "\"\"\"\n",
    "response = get_completion(prompt)\n",
    "print(response)\n"
   ]
  },
  {
   "attachments": {},
   "cell_type": "markdown",
   "metadata": {},
   "source": [
    "## 2.1 问题一：生成文本太长\n",
    "\n",
    "它似乎很好地完成了要求，即从技术说明书开始编写产品描述，介绍了一个精致的中世纪风格办公椅。但是当我看到这个时，我会觉得这个太长了。\n",
    "\n",
    "所以在上述过程中，我产生想法后写了一个  Prompt ，并得到了结果，但是我对它不是很满意，因为它太长了。所以我澄清我的  Prompt ，要求它限制生成文本长度，要求最多使用50个字。\n"
   ]
  },
  {
   "cell_type": "code",
   "execution_count": 6,
   "metadata": {},
   "outputs": [
    {
     "name": "stdout",
     "output_type": "stream",
     "text": [
      "Discover our exquisite medieval-style office chair, featuring customizable colors and finishes. With options for plush upholstery and a durable aluminum base, it combines elegance with comfort. Perfect for home or business use, this chair is designed for maximum style and functionality. Made in Italy.\n"
     ]
    }
   ],
   "source": [
    "# 优化后的 Prompt，要求生成描述不多于 50 词\n",
    "prompt = f\"\"\"\n",
    "Your task is to help a marketing team create a \n",
    "description for a retail website of a product based \n",
    "on a technical fact sheet.\n",
    "\n",
    "Write a product description based on the information \n",
    "provided in the technical specifications delimited by \n",
    "triple backticks.\n",
    "\n",
    "Use at most 50 words.\n",
    "\n",
    "Technical specifications: ```{fact_sheet_chair}```\n",
    "\"\"\"\n",
    "response = get_completion(prompt)\n",
    "print(response)\n"
   ]
  },
  {
   "attachments": {},
   "cell_type": "markdown",
   "metadata": {},
   "source": [
    "提取回答并根据空格拆分，答案为54个字，较好地完成了设计要求。"
   ]
  },
  {
   "cell_type": "code",
   "execution_count": 7,
   "metadata": {},
   "outputs": [
    {
     "name": "stdout",
     "output_type": "stream",
     "text": [
      "44\n"
     ]
    }
   ],
   "source": [
    "lst = response.split()\n",
    "print(len(lst))"
   ]
  },
  {
   "cell_type": "code",
   "execution_count": 8,
   "metadata": {},
   "outputs": [
    {
     "name": "stdout",
     "output_type": "stream",
     "text": [
      "探索我们美丽的中世纪风格办公家具系列，包括可选外壳颜色和底座涂层。功能多样，适用于家庭和商业场所，提供舒适的坐感和气动调节，完美融入任何环境。\n"
     ]
    }
   ],
   "source": [
    "# 优化后的 Prompt，要求生成描述不多于 50 词\n",
    "prompt = f\"\"\"\n",
    "您的任务是帮助营销团队基于技术说明书创建一个产品的零售网站描述。\n",
    "\n",
    "根据```标记的技术说明书中提供的信息，编写一个产品描述。\n",
    "\n",
    "使用最多50个词。\n",
    "\n",
    "技术规格：```{fact_sheet_chair}```\n",
    "\"\"\"\n",
    "response = get_completion(prompt)\n",
    "print(response)\n"
   ]
  },
  {
   "cell_type": "code",
   "execution_count": 9,
   "metadata": {},
   "outputs": [
    {
     "data": {
      "text/plain": [
       "71"
      ]
     },
     "execution_count": 9,
     "metadata": {},
     "output_type": "execute_result"
    }
   ],
   "source": [
    "# 由于中文需要分词，此处直接计算整体长度\n",
    "len(response)"
   ]
  },
  {
   "cell_type": "markdown",
   "metadata": {},
   "source": []
  },
  {
   "attachments": {},
   "cell_type": "markdown",
   "metadata": {},
   "source": [
    "LLM在能堪堪胜任严格的字数限制，但实现得并不精确。此例中，英文输出要求控制在50个词，但有时会输出60或65个单词的内容，但这也还算合理。原因是 LLM 使用分词器（tokenizer）解释文本，但它们往往在计算字符方面表现一般般。有很多不同的方法来尝试控制您得到的输出的长度（如若干句话/词/个汉字/个字母 (characters) 等）。"
   ]
  },
  {
   "attachments": {},
   "cell_type": "markdown",
   "metadata": {},
   "source": [
    "## 2.2 问题二：抓错文本细节\n",
    "\n",
    "我们继续完善这段推广词，会发现的第二个问题是，这个网站并不是直接向消费者销售，它实际上面向的是家具零售商，他们会更关心椅子的技术细节和材料。在这种情况下，您可以继续修改这个  Prompt ，让它更精确地描述椅子的技术细节。\n",
    "\n",
    "解决方法：要求它专注于与目标受众相关的方面。"
   ]
  },
  {
   "cell_type": "code",
   "execution_count": 10,
   "metadata": {},
   "outputs": [
    {
     "name": "stdout",
     "output_type": "stream",
     "text": [
      "Experience refined elegance with our mid-century modern office chair. Crafted from durable aluminum with modified nylon coating, it features high-density HD36 foam for comfort. Choose from various finishes, fabrics, and leather options, ensuring a stylish fit for any home or business environment. Perfect for contract use.\n"
     ]
    }
   ],
   "source": [
    "# 优化后的 Prompt，说明面向对象，应具有什么性质且侧重于什么方面\n",
    "prompt = f\"\"\"\n",
    "Your task is to help a marketing team create a \n",
    "description for a retail website of a product based \n",
    "on a technical fact sheet.\n",
    "\n",
    "Write a product description based on the information \n",
    "provided in the technical specifications delimited by \n",
    "triple backticks.\n",
    "\n",
    "The description is intended for furniture retailers, \n",
    "so should be technical in nature and focus on the \n",
    "materials the product is constructed from.\n",
    "\n",
    "Use at most 50 words.\n",
    "\n",
    "Technical specifications: ```{fact_sheet_chair}```\n",
    "\"\"\"\n",
    "response = get_completion(prompt)\n",
    "print(response)"
   ]
  },
  {
   "cell_type": "code",
   "execution_count": 11,
   "metadata": {},
   "outputs": [
    {
     "name": "stdout",
     "output_type": "stream",
     "text": [
      "这款中世纪风格办公椅结合优质材料与现代设计，铝制底座配有改性尼龙涂层，确保耐用性。可选多种装饰和气动调节功能，适用于家庭及商业场所，符合合同使用资格。\n"
     ]
    }
   ],
   "source": [
    "# 优化后的 Prompt，说明面向对象，应具有什么性质且侧重于什么方面\n",
    "prompt = f\"\"\"\n",
    "您的任务是帮助营销团队基于技术说明书创建一个产品的零售网站描述。\n",
    "\n",
    "根据```标记的技术说明书中提供的信息，编写一个产品描述。\n",
    "\n",
    "该描述面向家具零售商，因此应具有技术性质，并侧重于产品的材料构造。\n",
    "\n",
    "使用最多50个单词。\n",
    "\n",
    "技术规格： ```{fact_sheet_chair}```\n",
    "\"\"\"\n",
    "response = get_completion(prompt)\n",
    "print(response)"
   ]
  },
  {
   "cell_type": "markdown",
   "metadata": {},
   "source": []
  },
  {
   "attachments": {},
   "cell_type": "markdown",
   "metadata": {},
   "source": [
    "可见，通过修改  Prompt ，模型的关注点倾向了具体特征与技术细节。\n",
    "\n",
    "我可能进一步想要在描述的结尾展示出产品ID。因此，我可以进一步改进这个  Prompt ，要求在描述的结尾，展示出说明书中的7位产品ID。"
   ]
  },
  {
   "cell_type": "code",
   "execution_count": 12,
   "metadata": {},
   "outputs": [
    {
     "name": "stdout",
     "output_type": "stream",
     "text": [
      "Discover our elegant mid-century style office chair, perfect for both home and commercial environments. Constructed with a sturdy cast aluminum base featuring a modified nylon coating and high-density foam (HD36) for optimal comfort. Customize with 10 fabric options or 6 leather choices, and select your ideal base finish.\n",
      "\n",
      "Product ID: SWC-100, SWC-110\n"
     ]
    }
   ],
   "source": [
    "# 更进一步，要求在描述末尾包含 7个字符的产品ID\n",
    "prompt = f\"\"\"\n",
    "Your task is to help a marketing team create a \n",
    "description for a retail website of a product based \n",
    "on a technical fact sheet.\n",
    "\n",
    "Write a product description based on the information \n",
    "provided in the technical specifications delimited by \n",
    "triple backticks.\n",
    "\n",
    "The description is intended for furniture retailers, \n",
    "so should be technical in nature and focus on the \n",
    "materials the product is constructed from.\n",
    "\n",
    "At the end of the description, include every 7-character \n",
    "Product ID in the technical specification.\n",
    "\n",
    "Use at most 50 words.\n",
    "\n",
    "Technical specifications: ```{fact_sheet_chair}```\n",
    "\"\"\"\n",
    "response = get_completion(prompt)\n",
    "print(response)"
   ]
  },
  {
   "cell_type": "code",
   "execution_count": 13,
   "metadata": {},
   "outputs": [
    {
     "name": "stdout",
     "output_type": "stream",
     "text": [
      "探索我们中世纪风格的办公家具系列，结合美观与实用。提供多种材料和涂层选择，包括不锈钢和高密度泡沫座椅。铸铝基础确保稳定，气动调节提供舒适体验。适合家庭与商业使用。产品ID: SWC-100, SWC-110。\n"
     ]
    }
   ],
   "source": [
    "# 更进一步\n",
    "prompt = f\"\"\"\n",
    "您的任务是帮助营销团队基于技术说明书创建一个产品的零售网站描述。\n",
    "\n",
    "根据```标记的技术说明书中提供的信息，编写一个产品描述。\n",
    "\n",
    "该描述面向家具零售商，因此应具有技术性质，并侧重于产品的材料构造。\n",
    "\n",
    "在描述末尾，包括技术规格中每个7个字符的产品ID。\n",
    "\n",
    "使用最多50个单词。\n",
    "\n",
    "技术规格： ```{fact_sheet_chair}```\n",
    "\"\"\"\n",
    "response = get_completion(prompt)\n",
    "print(response)"
   ]
  },
  {
   "cell_type": "markdown",
   "metadata": {},
   "source": []
  },
  {
   "cell_type": "markdown",
   "metadata": {},
   "source": [
    "以上是许多开发人员通常会经历的  Prompt 开发的迭代过程简短示例。我的建议是，像上一章中所演示的那样，Prompt 应该保持清晰和明确，并在必要时给模型一些思考时间。在这些要求的基础上，常见流程是首先尝试编写一版 Prompt ，看看会发生什么，然后继续迭代完善 Prompt，以逐渐接近所需的结果。许多成功的 Prompt 都是通过这种迭代过程得出的。我将向您展示一个更复杂的 Prompt 示例，可能会让您对 ChatGPT 的能力有更深入的了解。"
   ]
  },
  {
   "attachments": {},
   "cell_type": "markdown",
   "metadata": {},
   "source": [
    "## 2.3 问题三：添加表格描述\n",
    "继续添加指引，要求提取产品尺寸信息并组织成表格，并指定表格的列、表名和格式；再将所有内容格式化为可以在网页使用的 HTML。"
   ]
  },
  {
   "cell_type": "code",
   "execution_count": 6,
   "metadata": {},
   "outputs": [
    {
     "name": "stdout",
     "output_type": "stream",
     "text": [
      "```html\n",
      "<div>\n",
      "    <h2>Product Description</h2>\n",
      "    <p>\n",
      "        Introducing a stunning addition to mid-century inspired office furniture, this chair combines \n",
      "        aesthetic appeal with functional engineering. Built with a robust 5-wheel plastic coated aluminum \n",
      "        base, it offers exceptional durability and mobility suitable for both home and business environments. \n",
      "        The pneumatic height adjustment feature allows for effortless customization, ensuring comfort for \n",
      "        users of varying heights.\n",
      "    </p>\n",
      "    <p>\n",
      "        The shell of the chair is constructed from cast aluminum featuring a modified nylon PA6/PA66 coating, \n",
      "        ensuring a sleek finish with enhanced strength. With a thickness of 10 mm, the shell provides \n",
      "        superior support while maintaining a lightweight profile. The seat is designed with HD36 foam, \n",
      "        known for its resilience and comfort, available in two densities: medium and high. \n",
      "    </p>\n",
      "    <p>\n",
      "        Choose from several upholstery options, including plastic back and front upholstery or full upholstery, \n",
      "        with a selection of 10 fabric and 6 leather choices to tailor the look to your space. Furthermore, \n",
      "        customers can select from various base finish options—stainless steel, matte black, gloss white, or chrome—to \n",
      "        complement any décor. For added flexibility, the chair can be outfitted with either soft or hard-floor \n",
      "        casters, and features the option of armless design or adjustable 8-position PU armrests.\n",
      "    </p>\n",
      "    <p>\n",
      "        This chair is not only stylish but also qualified for contract use, ensuring reliability in various \n",
      "        demanding settings. Elevate your office environment with this expertly crafted piece from Italy, \n",
      "        designed to enhance both productivity and sophistication.\n",
      "    </p>\n",
      "    <p>Product ID: SWC-100, SWC-110</p>\n",
      "</div>\n",
      "\n",
      "<h3>Product Dimensions</h3>\n",
      "<table>\n",
      "    <tr>\n",
      "        <th>Dimension</th>\n",
      "        <th>Measurement (inches)</th>\n",
      "    </tr>\n",
      "    <tr>\n",
      "        <td>Width</td>\n",
      "        <td>20.87”</td>\n",
      "    </tr>\n",
      "    <tr>\n",
      "        <td>Depth</td>\n",
      "        <td>20.08”</td>\n",
      "    </tr>\n",
      "    <tr>\n",
      "        <td>Height</td>\n",
      "        <td>31.50”</td>\n",
      "    </tr>\n",
      "    <tr>\n",
      "        <td>Seat Height</td>\n",
      "        <td>17.32”</td>\n",
      "    </tr>\n",
      "    <tr>\n",
      "        <td>Seat Depth</td>\n",
      "        <td>16.14”</td>\n",
      "    </tr>\n",
      "</table>\n",
      "```\n"
     ]
    }
   ],
   "source": [
    "# 要求它抽取信息并组织成表格，并指定表格的列、表名和格式\n",
    "prompt = f\"\"\"\n",
    "Your task is to help a marketing team create a \n",
    "description for a retail website of a product based \n",
    "on a technical fact sheet.\n",
    "\n",
    "Write a product description based on the information \n",
    "provided in the technical specifications delimited by \n",
    "triple backticks.\n",
    "\n",
    "The description is intended for furniture retailers, \n",
    "so should be technical in nature and focus on the \n",
    "materials the product is constructed from.\n",
    "\n",
    "At the end of the description, include every 7-character \n",
    "Product ID in the technical specification.\n",
    "\n",
    "After the description, include a table that gives the \n",
    "product's dimensions. The table should have two columns.\n",
    "In the first column include the name of the dimension. \n",
    "In the second column include the measurements in inches only.\n",
    "\n",
    "Give the table the title 'Product Dimensions'.\n",
    "\n",
    "Format everything as HTML that can be used in a website. \n",
    "Place the description in a <div> element.\n",
    "\n",
    "Technical specifications: ```{fact_sheet_chair}```\n",
    "\"\"\"\n",
    "\n",
    "response = get_completion(prompt)\n",
    "print(response)"
   ]
  },
  {
   "cell_type": "code",
   "execution_count": 7,
   "metadata": {},
   "outputs": [
    {
     "data": {
      "text/html": [
       "```html\n",
       "<div>\n",
       "    <h2>Product Description</h2>\n",
       "    <p>\n",
       "        Introducing a stunning addition to mid-century inspired office furniture, this chair combines \n",
       "        aesthetic appeal with functional engineering. Built with a robust 5-wheel plastic coated aluminum \n",
       "        base, it offers exceptional durability and mobility suitable for both home and business environments. \n",
       "        The pneumatic height adjustment feature allows for effortless customization, ensuring comfort for \n",
       "        users of varying heights.\n",
       "    </p>\n",
       "    <p>\n",
       "        The shell of the chair is constructed from cast aluminum featuring a modified nylon PA6/PA66 coating, \n",
       "        ensuring a sleek finish with enhanced strength. With a thickness of 10 mm, the shell provides \n",
       "        superior support while maintaining a lightweight profile. The seat is designed with HD36 foam, \n",
       "        known for its resilience and comfort, available in two densities: medium and high. \n",
       "    </p>\n",
       "    <p>\n",
       "        Choose from several upholstery options, including plastic back and front upholstery or full upholstery, \n",
       "        with a selection of 10 fabric and 6 leather choices to tailor the look to your space. Furthermore, \n",
       "        customers can select from various base finish options—stainless steel, matte black, gloss white, or chrome—to \n",
       "        complement any décor. For added flexibility, the chair can be outfitted with either soft or hard-floor \n",
       "        casters, and features the option of armless design or adjustable 8-position PU armrests.\n",
       "    </p>\n",
       "    <p>\n",
       "        This chair is not only stylish but also qualified for contract use, ensuring reliability in various \n",
       "        demanding settings. Elevate your office environment with this expertly crafted piece from Italy, \n",
       "        designed to enhance both productivity and sophistication.\n",
       "    </p>\n",
       "    <p>Product ID: SWC-100, SWC-110</p>\n",
       "</div>\n",
       "\n",
       "<h3>Product Dimensions</h3>\n",
       "<table>\n",
       "    <tr>\n",
       "        <th>Dimension</th>\n",
       "        <th>Measurement (inches)</th>\n",
       "    </tr>\n",
       "    <tr>\n",
       "        <td>Width</td>\n",
       "        <td>20.87”</td>\n",
       "    </tr>\n",
       "    <tr>\n",
       "        <td>Depth</td>\n",
       "        <td>20.08”</td>\n",
       "    </tr>\n",
       "    <tr>\n",
       "        <td>Height</td>\n",
       "        <td>31.50”</td>\n",
       "    </tr>\n",
       "    <tr>\n",
       "        <td>Seat Height</td>\n",
       "        <td>17.32”</td>\n",
       "    </tr>\n",
       "    <tr>\n",
       "        <td>Seat Depth</td>\n",
       "        <td>16.14”</td>\n",
       "    </tr>\n",
       "</table>\n",
       "```"
      ],
      "text/plain": [
       "<IPython.core.display.HTML object>"
      ]
     },
     "metadata": {},
     "output_type": "display_data"
    }
   ],
   "source": [
    "# 表格是以 HTML 格式呈现的，加载出来\n",
    "from IPython.display import display, HTML\n",
    "\n",
    "display(HTML(response))"
   ]
  },
  {
   "cell_type": "code",
   "execution_count": 8,
   "metadata": {},
   "outputs": [
    {
     "name": "stdout",
     "output_type": "stream",
     "text": [
      "```html\n",
      "<div>\n",
      "    <h2>Mid-Century Inspired Office Chair</h2>\n",
      "    <p>为您的办公空间增添经典魅力，这款中世纪风格的办公椅不仅兼具美观与功能性，且采用高质量的材料构造，确保耐用与舒适。椅子的主体由铸铝制成，并经过改性尼龙涂层（PA6/PA66），厚度达到10毫米，使其能够承受日常使用的磨损。</p>\n",
      "    <p>底座配备五轮塑料涂层铝合金，提供稳定性与灵活性。椅子的高度可通过气动调节轻松升降，满足不同用户的需求。此外，有多种外壳颜色和底座饰面可供选择，包括不锈钢、哑光黑、光泽白或镀铬，能够与各种办公环境相匹配。</p>\n",
      "    <p>座垫使用HD36泡沫，附有可选的软地板或硬地板滚轮，确保在多种环境下都能提供卓越的舒适性。我们还提供两种泡沫密度选项—中密度（1.8 lb/ft3）和高密度（2.8 lb/ft3），满足不同的坐感需求。椅子可配有或不配手臂，适合家庭或商业环境，完全符合合同使用标准。</p>\n",
      "    <p>无论是在家中还是办公室，这款椅子都将为您带来无与伦比的舒适体验与现代设计感。</p>\n",
      "    <p>产品ID: SWC-100, SWC-110</p>\n",
      "</div>\n",
      "\n",
      "<h3>产品尺寸</h3>\n",
      "<table>\n",
      "    <tr>\n",
      "        <th>尺寸名称</th>\n",
      "        <th>英寸测量值</th>\n",
      "    </tr>\n",
      "    <tr>\n",
      "        <td>宽度</td>\n",
      "        <td>20.87”</td>\n",
      "    </tr>\n",
      "    <tr>\n",
      "        <td>深度</td>\n",
      "        <td>20.08”</td>\n",
      "    </tr>\n",
      "    <tr>\n",
      "        <td>高度</td>\n",
      "        <td>31.50”</td>\n",
      "    </tr>\n",
      "    <tr>\n",
      "        <td>座高</td>\n",
      "        <td>17.32”</td>\n",
      "    </tr>\n",
      "    <tr>\n",
      "        <td>座深</td>\n",
      "        <td>16.14”</td>\n",
      "    </tr>\n",
      "</table>\n",
      "```\n"
     ]
    }
   ],
   "source": [
    "# 要求它抽取信息并组织成表格，并指定表格的列、表名和格式\n",
    "prompt = f\"\"\"\n",
    "您的任务是帮助营销团队基于技术说明书创建一个产品的零售网站描述。\n",
    "\n",
    "根据```标记的技术说明书中提供的信息，编写一个产品描述。\n",
    "\n",
    "该描述面向家具零售商，因此应具有技术性质，并侧重于产品的材料构造。\n",
    "\n",
    "在描述末尾，包括技术规格中每个7个字符的产品ID。\n",
    "\n",
    "在描述之后，包括一个表格，提供产品的尺寸。表格应该有两列。第一列包括尺寸的名称。第二列只包括英寸的测量值。\n",
    "\n",
    "给表格命名为“产品尺寸”。\n",
    "\n",
    "将所有内容格式化为可用于网站的HTML格式。将描述放在<div>元素中。\n",
    "\n",
    "技术规格：```{fact_sheet_chair}```\n",
    "\"\"\"\n",
    "\n",
    "response = get_completion(prompt)\n",
    "print(response)"
   ]
  },
  {
   "cell_type": "code",
   "execution_count": 9,
   "metadata": {},
   "outputs": [
    {
     "data": {
      "text/html": [
       "```html\n",
       "<div>\n",
       "    <h2>Mid-Century Inspired Office Chair</h2>\n",
       "    <p>为您的办公空间增添经典魅力，这款中世纪风格的办公椅不仅兼具美观与功能性，且采用高质量的材料构造，确保耐用与舒适。椅子的主体由铸铝制成，并经过改性尼龙涂层（PA6/PA66），厚度达到10毫米，使其能够承受日常使用的磨损。</p>\n",
       "    <p>底座配备五轮塑料涂层铝合金，提供稳定性与灵活性。椅子的高度可通过气动调节轻松升降，满足不同用户的需求。此外，有多种外壳颜色和底座饰面可供选择，包括不锈钢、哑光黑、光泽白或镀铬，能够与各种办公环境相匹配。</p>\n",
       "    <p>座垫使用HD36泡沫，附有可选的软地板或硬地板滚轮，确保在多种环境下都能提供卓越的舒适性。我们还提供两种泡沫密度选项—中密度（1.8 lb/ft3）和高密度（2.8 lb/ft3），满足不同的坐感需求。椅子可配有或不配手臂，适合家庭或商业环境，完全符合合同使用标准。</p>\n",
       "    <p>无论是在家中还是办公室，这款椅子都将为您带来无与伦比的舒适体验与现代设计感。</p>\n",
       "    <p>产品ID: SWC-100, SWC-110</p>\n",
       "</div>\n",
       "\n",
       "<h3>产品尺寸</h3>\n",
       "<table>\n",
       "    <tr>\n",
       "        <th>尺寸名称</th>\n",
       "        <th>英寸测量值</th>\n",
       "    </tr>\n",
       "    <tr>\n",
       "        <td>宽度</td>\n",
       "        <td>20.87”</td>\n",
       "    </tr>\n",
       "    <tr>\n",
       "        <td>深度</td>\n",
       "        <td>20.08”</td>\n",
       "    </tr>\n",
       "    <tr>\n",
       "        <td>高度</td>\n",
       "        <td>31.50”</td>\n",
       "    </tr>\n",
       "    <tr>\n",
       "        <td>座高</td>\n",
       "        <td>17.32”</td>\n",
       "    </tr>\n",
       "    <tr>\n",
       "        <td>座深</td>\n",
       "        <td>16.14”</td>\n",
       "    </tr>\n",
       "</table>\n",
       "```"
      ],
      "text/plain": [
       "<IPython.core.display.HTML object>"
      ]
     },
     "metadata": {},
     "output_type": "display_data"
    }
   ],
   "source": [
    "# 表格是以 HTML 格式呈现的，加载出来\n",
    "from IPython.display import display, HTML\n",
    "\n",
    "display(HTML(response))"
   ]
  },
  {
   "cell_type": "markdown",
   "metadata": {},
   "source": []
  },
  {
   "attachments": {},
   "cell_type": "markdown",
   "metadata": {},
   "source": [
    "本章的主要内容是 LLM 在开发应用程序中的迭代式  Prompt 开发过程。开发者需要先尝试编写  Prompt ，然后通过迭代逐步完善它，直至得到需要的结果。作为一名高效的提示词工程师（Prompt Engineer），关键在于掌握有效的开发Prompt的过程，而不是去寻求得到“完美的”Prompt。对于一些更复杂的应用程序，可以对多个样本（如数百张说明书）进行  Prompt 的迭代开发，并在样本集上进行评估。\n",
    "\n",
    "最后，在更成熟的应用程序中，可以观察多个Prompt在多个样本集上的表现，测试平均或最差性能。但通常，**仅当**应用较成型之后，才推荐您通过这种评估方式，来精益求精。\n",
    "\n",
    "请使用 Jupyter Notebook，动手实践本节给出的示例，并尝试不同的变化，查看结果。"
   ]
  }
 ],
 "metadata": {
  "kernelspec": {
   "display_name": "Python 3",
   "language": "python",
   "name": "python3"
  },
  "language_info": {
   "codemirror_mode": {
    "name": "ipython",
    "version": 3
   },
   "file_extension": ".py",
   "mimetype": "text/x-python",
   "name": "python",
   "nbconvert_exporter": "python",
   "pygments_lexer": "ipython3",
   "version": "3.9.20"
  },
  "latex_envs": {
   "LaTeX_envs_menu_present": true,
   "autoclose": false,
   "autocomplete": true,
   "bibliofile": "biblio.bib",
   "cite_by": "apalike",
   "current_citInitial": 1,
   "eqLabelWithNumbers": true,
   "eqNumInitial": 1,
   "hotkeys": {
    "equation": "Ctrl-E",
    "itemize": "Ctrl-I"
   },
   "labels_anchors": false,
   "latex_user_defs": false,
   "report_style_numbering": false,
   "user_envs_cfg": false
  },
  "toc": {
   "base_numbering": 1,
   "nav_menu": {},
   "number_sections": true,
   "sideBar": true,
   "skip_h1_title": false,
   "title_cell": "Table of Contents",
   "title_sidebar": "Contents",
   "toc_cell": false,
   "toc_position": {},
   "toc_section_display": true,
   "toc_window_display": true
  }
 },
 "nbformat": 4,
 "nbformat_minor": 4
}
